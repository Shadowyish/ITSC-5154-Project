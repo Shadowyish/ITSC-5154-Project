{
 "cells": [
  {
   "cell_type": "code",
   "execution_count": 1072,
   "metadata": {},
   "outputs": [],
   "source": [
    "import tensorflow as tf\n",
    "import cv2\n",
    "import tifffile\n",
    "import numpy as np\n",
    "import pandas as pd\n",
    "import matplotlib.pyplot as plt\n",
    "from sklearn.decomposition import PCA\n",
    "from sklearn.model_selection import train_test_split"
   ]
  },
  {
   "cell_type": "code",
   "execution_count": 1073,
   "metadata": {},
   "outputs": [
    {
     "name": "stdout",
     "output_type": "stream",
     "text": [
      "TensorFlow version: 2.18.0\n",
      "Available devices: [PhysicalDevice(name='/physical_device:CPU:0', device_type='CPU')]\n",
      "OpenCV version: 4.10.0\n"
     ]
    }
   ],
   "source": [
    "# Check TensorFlow version and devices\n",
    "print(\"TensorFlow version:\", tf.__version__)\n",
    "print(\"Available devices:\", tf.config.list_physical_devices())\n",
    "\n",
    "# Test OpenCV installation\n",
    "print(\"OpenCV version:\", cv2.__version__)"
   ]
  },
  {
   "cell_type": "code",
   "execution_count": 1074,
   "metadata": {},
   "outputs": [
    {
     "name": "stderr",
     "output_type": "stream",
     "text": [
      "C:\\Users\\wowen\\AppData\\Local\\Temp\\ipykernel_49556\\945279305.py:2: FutureWarning: The 'delim_whitespace' keyword in pd.read_csv is deprecated and will be removed in a future version. Use ``sep='\\s+'`` instead\n",
      "  unprocessed_jaffed_df = pd.read_csv(\"jaffed_data.txt\", delim_whitespace=True, header=0)\n"
     ]
    }
   ],
   "source": [
    "# Read the jaffed file data\n",
    "unprocessed_jaffed_df = pd.read_csv(\"jaffed_data.txt\", delim_whitespace=True, header=0)\n",
    "\n",
    "#Find the column with the highest valued emotion in each row\n",
    "processed_jaffed_df = unprocessed_jaffed_df.drop(columns=['PIC', '#'])\n",
    "max_columns = processed_jaffed_df.idxmax(axis=1)\n",
    "\n",
    "# Store the results in a new dataframe and pair with proper file name\n",
    "jaffed_df = pd.DataFrame({\n",
    "    'emotion': max_columns,\n",
    "    'pixels': [f'jaffedbase/{unprocessed_jaffed_df.loc[index, \"#\"]}.tiff' for index in range(len(unprocessed_jaffed_df))]\n",
    "})"
   ]
  },
  {
   "cell_type": "code",
   "execution_count": 1075,
   "metadata": {},
   "outputs": [],
   "source": [
    "# Function to read a .tiff image using tifffile and convert to space-separated pixel values\n",
    "def image_to_pixel_string(image_path):\n",
    "    # Read the .tiff image using tifffile, turn to 1D flattened array\n",
    "    img_array = tifffile.imread(image_path)\n",
    "    flattened = img_array.flatten()\n",
    "\n",
    "    # Convert the flattened array to a space-separated string of pixel values\n",
    "    # Done to match format of the CKextended dataset\n",
    "    pixel_str = ' '.join(map(str, flattened))\n",
    "\n",
    "    return pixel_str"
   ]
  },
  {
   "cell_type": "code",
   "execution_count": 1076,
   "metadata": {},
   "outputs": [
    {
     "name": "stdout",
     "output_type": "stream",
     "text": [
      "    emotion                                             pixels\n",
      "0       HAP  155 156 160 158 158 156 156 158 149 161 154 15...\n",
      "1       HAP  163 168 169 171 165 167 162 155 166 165 165 17...\n",
      "2       HAP  163 155 166 168 158 160 169 168 168 166 159 16...\n",
      "3       HAP  156 158 159 153 153 152 158 158 153 154 157 15...\n",
      "4       HAP  166 157 165 162 174 165 173 167 167 164 164 17...\n",
      "..      ...                                                ...\n",
      "208     DIS  59 56 57 55 50 54 55 58 61 61 64 59 61 65 75 7...\n",
      "209     ANG  53 63 63 55 51 55 54 54 59 53 63 60 58 65 67 6...\n",
      "210     SUR  36 32 35 42 40 36 45 45 45 46 46 44 46 45 48 4...\n",
      "211     FEA  30 31 34 28 38 40 40 47 40 42 53 56 61 61 64 5...\n",
      "212     FEA  42 42 38 45 41 42 46 40 31 38 40 42 45 37 45 4...\n",
      "\n",
      "[213 rows x 2 columns]\n"
     ]
    }
   ],
   "source": [
    "# Populate the 'image' field with space-separated pixel values\n",
    "\n",
    "# Iterate over the image column and insert pixel values as space-separated strings\n",
    "for index, row in jaffed_df.iterrows():\n",
    "    pixel_string = image_to_pixel_string(row['pixels'])\n",
    "    if pixel_string:\n",
    "        jaffed_df.at[index, 'pixels'] = pixel_string\n",
    "\n",
    "\n",
    "# Display the new dataframe\n",
    "print(jaffed_df)"
   ]
  },
  {
   "cell_type": "code",
   "execution_count": 1077,
   "metadata": {},
   "outputs": [
    {
     "name": "stdout",
     "output_type": "stream",
     "text": [
      "Unique emotions in the dataset: ['HAP' 'SAD' 'SUR' 'ANG' 'DIS' 'FEA']\n"
     ]
    }
   ],
   "source": [
    "# Find the Unique values in the emotion column\n",
    "unique_emotions = jaffed_df['emotion'].unique()\n",
    "print(\"Unique emotions in the dataset:\", unique_emotions)"
   ]
  },
  {
   "cell_type": "code",
   "execution_count": 1078,
   "metadata": {},
   "outputs": [
    {
     "name": "stdout",
     "output_type": "stream",
     "text": [
      "     emotion                                             pixels\n",
      "0          3  155 156 160 158 158 156 156 158 149 161 154 15...\n",
      "1          3  163 168 169 171 165 167 162 155 166 165 165 17...\n",
      "2          3  163 155 166 168 158 160 169 168 168 166 159 16...\n",
      "3          3  156 158 159 153 153 152 158 158 153 154 157 15...\n",
      "4          3  166 157 165 162 174 165 173 167 167 164 164 17...\n",
      "..       ...                                                ...\n",
      "208        1  59 56 57 55 50 54 55 58 61 61 64 59 61 65 75 7...\n",
      "209        0  53 63 63 55 51 55 54 54 59 53 63 60 58 65 67 6...\n",
      "210        5  36 32 35 42 40 36 45 45 45 46 46 44 46 45 48 4...\n",
      "211        2  30 31 34 28 38 40 40 47 40 42 53 56 61 61 64 5...\n",
      "212        2  42 42 38 45 41 42 46 40 31 38 40 42 45 37 45 4...\n",
      "\n",
      "[213 rows x 2 columns]\n"
     ]
    }
   ],
   "source": [
    "# Map values to represent the same format as the CK+ dataset\n",
    "emotion_mapping = {\n",
    "    \"ANG\": 0,\n",
    "    \"DIS\": 1,\n",
    "    \"FEA\": 2,\n",
    "    \"HAP\": 3,\n",
    "    \"SAD\": 4,\n",
    "    \"SUR\": 5\n",
    "}\n",
    "jaffed_df['emotion'] = jaffed_df['emotion'].map(emotion_mapping)\n",
    "print(jaffed_df)\n",
    "#Contains 256x256 flattened pixel array"
   ]
  },
  {
   "cell_type": "code",
   "execution_count": 1079,
   "metadata": {},
   "outputs": [
    {
     "name": "stdout",
     "output_type": "stream",
     "text": [
      "     emotion                                             pixels\n",
      "0          6  36 39 35 25 19 11 8 7 3 13 15 9 21 57 75 90 10...\n",
      "1          6  88 74 19 4 5 5 3 12 8 21 15 21 15 18 24 29 32 ...\n",
      "2          6  9 2 4 7 1 1 1 0 7 29 49 76 115 141 156 169 177...\n",
      "3          6  104 106 108 104 95 50 60 61 58 83 126 133 139 ...\n",
      "4          6  68 72 67 67 6 2 1 1 1 1 1 14 24 24 38 65 79 94...\n",
      "..       ...                                                ...\n",
      "915        5  87 86 88 92 92 127 231 248 251 253 254 254 254...\n",
      "916        5  21 24 26 28 27 28 30 8 0 0 0 0 0 0 1 4 37 42 4...\n",
      "917        5  76 40 31 38 28 34 38 36 41 36 46 38 44 26 45 5...\n",
      "918        5  114 87 16 29 17 25 30 34 37 35 45 93 63 80 73 ...\n",
      "919        5  101 102 99 96 98 42 23 18 15 17 27 34 17 24 29...\n",
      "\n",
      "[920 rows x 2 columns]\n"
     ]
    }
   ],
   "source": [
    "#Load the CK+ Extended Dataset\n",
    "CK_df = pd.read_csv(\"ckextended.csv\", header=0)\n",
    "CK_df = CK_df.drop(columns=['Usage'])\n",
    "print(CK_df)\n",
    "#Contains 48x48 flattened pixel array"
   ]
  },
  {
   "cell_type": "code",
   "execution_count": 1080,
   "metadata": {},
   "outputs": [],
   "source": [
    "#function that takes a space seperated flattened image and converts to a new size\n",
    "def resize_flattened_image(flat_array:str, original_size:tuple, target_size:tuple):\n",
    "    # convert to array\n",
    "    flat_array = np.fromstring(flat_array, sep=\" \", dtype=np.uint8)\n",
    "    #resize\n",
    "    reshaped_image = flat_array.reshape(original_size)\n",
    "    resized_image = cv2.resize(reshaped_image, target_size, interpolation=cv2.INTER_LINEAR)\n",
    "    resized_flattened = resized_image.flatten().astype(np.uint8)\n",
    "    #convert back to str\n",
    "    resized_string = \" \".join(map(str, resized_flattened))\n",
    "    \n",
    "    return resized_string"
   ]
  },
  {
   "cell_type": "code",
   "execution_count": 1081,
   "metadata": {},
   "outputs": [
    {
     "name": "stdout",
     "output_type": "stream",
     "text": [
      "     emotion                                             pixels\n",
      "0          6  36 36 36 36 37 38 38 38 38 38 37 36 35 35 33 3...\n",
      "1          6  88 88 88 86 83 80 78 75 69 59 48 38 27 19 16 1...\n",
      "2          6  9 9 9 8 6 5 4 3 2 3 3 3 3 4 5 5 6 6 7 6 5 4 3 ...\n",
      "3          6  104 104 104 104 105 105 105 106 106 107 107 10...\n",
      "4          6  68 68 68 68 69 70 71 72 71 70 70 69 68 67 67 6...\n",
      "..       ...                                                ...\n",
      "915        5  87 87 87 87 86 86 86 86 86 86 87 87 88 88 89 8...\n",
      "916        5  21 21 21 21 22 22 23 24 24 24 25 25 26 26 26 2...\n",
      "917        5  76 76 76 70 64 57 50 43 39 37 36 34 32 31 32 3...\n",
      "918        5  114 114 114 110 105 99 94 89 80 67 54 40 27 16...\n",
      "919        5  101 101 101 101 101 101 102 102 102 101 100 10...\n",
      "\n",
      "[920 rows x 2 columns]\n"
     ]
    }
   ],
   "source": [
    "CK_df['pixels'] = CK_df['pixels'].apply(lambda x: resize_flattened_image(x, (48,48), (256,256)))\n",
    "print(CK_df)"
   ]
  },
  {
   "cell_type": "code",
   "execution_count": 1082,
   "metadata": {},
   "outputs": [
    {
     "name": "stdout",
     "output_type": "stream",
     "text": [
      "emotion\n",
      "6    593\n",
      "5    124\n",
      "3    123\n",
      "1    100\n",
      "0     75\n",
      "4     67\n",
      "2     33\n",
      "7     18\n",
      "Name: count, dtype: int64\n"
     ]
    }
   ],
   "source": [
    "data = pd.concat([jaffed_df, CK_df], ignore_index= True)\n",
    "class_distribution = data['emotion'].value_counts()\n",
    "\n",
    "\n",
    "print(class_distribution)"
   ]
  },
  {
   "cell_type": "code",
   "execution_count": 1083,
   "metadata": {},
   "outputs": [
    {
     "name": "stdout",
     "output_type": "stream",
     "text": [
      "Class distribution after oversampling:\n",
      "emotion\n",
      "6    150\n",
      "5    124\n",
      "3    123\n",
      "1    100\n",
      "4     90\n",
      "0     90\n",
      "2     90\n",
      "Name: count, dtype: int64\n"
     ]
    }
   ],
   "source": [
    "from sklearn.utils import resample\n",
    "data_no7 = data[data['emotion'] != 7]\n",
    "\n",
    "data_majority = data_no7[data_no7['emotion'] == 6]\n",
    "data_minority = data_no7[data_no7['emotion'] != 6]\n",
    "\n",
    "data_majority_downsampled = resample(data_majority, \n",
    "            replace=False,  # No replacement\n",
    "            n_samples=150,  # Downsample to 200\n",
    "            random_state=64)\n",
    "\n",
    "data_minority_samples = []\n",
    "for emotion_class in data_minority['emotion'].unique():\n",
    "    class_data = data_minority[data_minority['emotion'] == emotion_class]\n",
    "    \n",
    "    # Only upsample if the class size is less than the target\n",
    "    if len(class_data) < 100:\n",
    "        upsampled_class = resample(class_data,\n",
    "                                   replace=True,  # Sample with replacement\n",
    "                                   n_samples=90,  # Target size for each class\n",
    "                                   random_state=64)\n",
    "        data_minority_samples.append(upsampled_class)\n",
    "    else:\n",
    "        data_minority_samples.append(class_data)\n",
    "\n",
    "data_processed = pd.concat([data_majority_downsampled, *data_minority_samples])\n",
    "\n",
    "print(\"Class distribution after oversampling:\")\n",
    "print(data_processed['emotion'].value_counts())"
   ]
  },
  {
   "cell_type": "code",
   "execution_count": 1084,
   "metadata": {},
   "outputs": [
    {
     "name": "stdout",
     "output_type": "stream",
     "text": [
      "(613,) (154,) (613,) (154,)\n"
     ]
    }
   ],
   "source": [
    "X = data_processed['pixels'].values\n",
    "y = data_processed['emotion'].values\n",
    "#CK_df = CK_df[CK_df['emotion'] != 7]\n",
    "#X_train, X_test, y_train, y_test = train_test_split(CK_df['pixels'].values, CK_df['emotion'].values, test_size=.2, random_state=64)\n",
    "X_train, X_test, y_train, y_test = train_test_split(X, y, test_size=.2, random_state=64)\n",
    "print(X_train.shape, X_test.shape, y_train.shape, y_test.shape)"
   ]
  },
  {
   "cell_type": "code",
   "execution_count": 1085,
   "metadata": {},
   "outputs": [],
   "source": [
    "# Load OpenCV's pre-trained Haar Cascade\n",
    "cascade_path = cv2.data.haarcascades + 'haarcascade_frontalface_default.xml'\n",
    "face_cascade = cv2.CascadeClassifier(cascade_path)"
   ]
  },
  {
   "cell_type": "code",
   "execution_count": 1086,
   "metadata": {},
   "outputs": [],
   "source": [
    "# Detect the faces in a image, using Haar Cascades\n",
    "def detect_faces(pixels):\n",
    "    # Convert pixels to image arr\n",
    "    image = np.fromstring(pixels, sep=\" \", dtype=np.uint8).reshape((256,256))\n",
    "    # Detect and draw rectangles\n",
    "    faces = face_cascade.detectMultiScale(image, scaleFactor=1.01, minNeighbors=5, minSize=(30, 30))\n",
    "    for (x, y, w, h) in faces:\n",
    "        cv2.rectangle(image, (x, y), (x+w, y+h), (255, 0, 0), 2)  # Blue rectangle\n",
    "    \n",
    "    return image, faces"
   ]
  },
  {
   "cell_type": "code",
   "execution_count": 1087,
   "metadata": {},
   "outputs": [
    {
     "data": {
      "image/png": "[encoded data removed]",
      "text/plain": [
       "<Figure size 640x480 with 1 Axes>"
      ]
     },
     "metadata": {},
     "output_type": "display_data"
    }
   ],
   "source": [
    "# Test with an example image\n",
    "test_image = jaffed_df.loc[120, 'pixels']\n",
    "detected_image, faces = detect_faces(test_image)\n",
    "\n",
    "# Display the results\n",
    "plt.imshow(cv2.cvtColor(detected_image, cv2.COLOR_BGR2RGB))\n",
    "plt.axis(\"off\")\n",
    "plt.title(f\"Detected {len(faces)} face(s)\")\n",
    "plt.show()"
   ]
  },
  {
   "cell_type": "markdown",
   "metadata": {},
   "source": [
    "Face Detection Works!\n",
    "now we can modify the logic above to start building our tensor flow layers.\n",
    "We'll modify this so it outputs the cropped facial region, that way only the facial region gets fed into the next layer"
   ]
  },
  {
   "cell_type": "code",
   "execution_count": 1088,
   "metadata": {},
   "outputs": [],
   "source": [
    "class FaceDetectionLayer(tf.keras.layers.Layer):\n",
    "    def __init__(self, face_cascade_path, target_size=(256, 256), face_size=(96, 96)):\n",
    "        super(FaceDetectionLayer, self).__init__()\n",
    "        self.target_size = target_size\n",
    "        self.face_size = face_size\n",
    "        self.face_cascade = cv2.CascadeClassifier(face_cascade_path)  # Load Haar Cascade\n",
    "\n",
    "    def detect_faces(self, image):\n",
    "        # Detect faces\n",
    "        if image.dtype != 'uint8':\n",
    "            image = cv2.convertScaleAbs(image)\n",
    "        faces = self.face_cascade.detectMultiScale(image, scaleFactor=1.01, minNeighbors=5, minSize=(30, 30))\n",
    "\n",
    "        # If no faces are detected, return a blank face\n",
    "        # if len(faces) == 0:\n",
    "            # return np.zeros((self.face_size[0], self.face_size[1], 3), dtype=np.uint8)\n",
    "        #pull first detected face\n",
    "        x, y, w, h = faces[0]\n",
    "        face_region = image[y:y+h, x:x+w]  # Crop face\n",
    "        \n",
    "        # Check number of channels before converting\n",
    "        if len(face_region.shape) == 2:  # If grayscale\n",
    "            face_rgb = cv2.cvtColor(face_region, cv2.COLOR_GRAY2RGB)\n",
    "        else:  # Already RGB\n",
    "            face_rgb = face_region\n",
    "        resized_face = cv2.resize(face_rgb, self.face_size, interpolation=cv2.INTER_LINEAR)\n",
    "        return resized_face\n",
    "\n",
    "    \n",
    "    def call(self, inputs):\n",
    "        def process_single_sample(pixels):\n",
    "            # Convert convert tensor to numpy arr for processing\n",
    "            image = pixels.numpy().reshape(self.target_size[0], self.target_size[1], 3)\n",
    "            cropped_face = self.detect_faces(image)\n",
    "            return cropped_face\n",
    "        # Use tf.py_function to integrate OpenCV logic with Tensorflow\n",
    "        outputs = tf.map_fn(\n",
    "            lambda x: tf.py_function(func=process_single_sample, inp=[x], Tout=tf.uint8),\n",
    "            inputs,\n",
    "            dtype=tf.uint8\n",
    "        )\n",
    "        outputs.set_shape([None, 96, 96, 3])\n",
    "        return outputs\n",
    "    \n",
    "    def compute_output_shape(self, input_shape):\n",
    "        # The output will be a stack of cropped and resized face images, each with shape (64, 64, 3)\n",
    "        return tf.TensorShape((input_shape[0], self.face_size[0], self.face_size[1], 3))"
   ]
  },
  {
   "cell_type": "markdown",
   "metadata": {},
   "source": [
    "Next we build the layer we need for Skin Segmentation using a YCbCr color space"
   ]
  },
  {
   "cell_type": "code",
   "execution_count": 1089,
   "metadata": {},
   "outputs": [],
   "source": [
    "class SkinSegmentationLayer(tf.keras.layers.Layer):\n",
    "    def __init__(self):\n",
    "        super(SkinSegmentationLayer, self).__init__()\n",
    "\n",
    "    def call(self, inputs):\n",
    "        # Assume inputs is a tensor of shape (batch_size, 64, 64, 3)\n",
    "        # convert to float\n",
    "        inputs = tf.cast(inputs, tf.float32) / 255.0  # Normalize to [0, 1]\n",
    "        inputs = tf.ensure_shape(inputs, (None, 96, 96, 3))\n",
    "        # Convert the input BGR image (64x64x3) to YCbCr format\n",
    "        ycbcr_image = tf.image.rgb_to_yuv(inputs)\n",
    "\n",
    "        # Extract the Cb and Cr channels from the YCbCr image\n",
    "        cb = ycbcr_image[..., 1]\n",
    "        cr = ycbcr_image[..., 2]\n",
    "\n",
    "        # Define the thresholds for skin segmentation\n",
    "        # These values are approximate, and can be adjusted\n",
    "        min_cb, max_cb = 65, 145\n",
    "        min_cr, max_cr = 120, 190\n",
    "\n",
    "        # Create a mask by checking if the Cb and Cr values are within the skin range\n",
    "        skin_mask = tf.logical_and(\n",
    "            tf.logical_and(cb >= min_cb, cb <= max_cb),\n",
    "            tf.logical_and(cr >= min_cr, cr <= max_cr)\n",
    "        )\n",
    "\n",
    "        # Convert the boolean mask to float (1 for skin, 0 for non-skin)\n",
    "        skin_mask = tf.cast(skin_mask, tf.float32)\n",
    "        return skin_mask\n",
    "    def compute_output_shape(self, input_shape):\n",
    "        return (input_shape[0], input_shape[1], input_shape[2], 1) "
   ]
  },
  {
   "cell_type": "code",
   "execution_count": 1090,
   "metadata": {},
   "outputs": [],
   "source": [
    "class PCALayer(tf.keras.layers.Layer):\n",
    "    def __init__(self, n_components=50):\n",
    "        super(PCALayer, self).__init__()\n",
    "        self.n_components = n_components\n",
    "        self.pca = PCA(n_components=self.n_components, svd_solver='auto')\n",
    "\n",
    "    def pca_fit_transform(self, inputs):\n",
    "        # Convert the tensor inputs to numpy arrays and fit\n",
    "        inputs_np = inputs.numpy()\n",
    "        return self.pca.fit_transform(inputs_np)\n",
    "\n",
    "    def pca_transform(self, inputs):\n",
    "        # Convert the tensor inputs to numpy arrays and transform\n",
    "        inputs_np = inputs.numpy()\n",
    "        return self.pca.transform(inputs_np)\n",
    "\n",
    "    def call(self, inputs, training=False):\n",
    "        # Remove the last dimension and flatten\n",
    "        inputs = tf.ensure_shape(inputs, (None, 96, 96))\n",
    "        inputs = tf.reshape(inputs, (tf.shape(inputs)[0], -1))  # Flatten to (batch_size, 64*64)\n",
    "\n",
    "        # During training, we fit and transform the inputs, only transform otherwise\n",
    "        if training:\n",
    "            outputs = tf.py_function(self.pca_fit_transform, [inputs], tf.float32)\n",
    "        else:\n",
    "            outputs = tf.py_function(self.pca_transform, [inputs], tf.float32)\n",
    "        outputs.set_shape([None, self.n_components])\n",
    "        \n",
    "        return outputs\n",
    "    \n",
    "    def compute_output_shape(self, input_shape):\n",
    "        return (input_shape[0], self.n_components)"
   ]
  },
  {
   "cell_type": "code",
   "execution_count": 1091,
   "metadata": {},
   "outputs": [],
   "source": [
    "model = tf.keras.Sequential([\n",
    "    tf.keras.layers.InputLayer(shape = (256,256,3)),\n",
    "    FaceDetectionLayer(face_cascade_path= cascade_path),\n",
    "    SkinSegmentationLayer(),\n",
    "    PCALayer(n_components=25),\n",
    "    # tf.keras.layers.Dense(64, activation='relu'),\n",
    "    # tf.keras.layers.Dropout(0.6),\n",
    "    tf.keras.layers.Dense(7, activation='softmax')#one class for each emotion recorded\n",
    "])\n",
    "optimizer = tf.keras.optimizers.Adam(learning_rate=0.0001)\n",
    "model.compile(optimizer=optimizer, loss='sparse_categorical_crossentropy', metrics=['accuracy'])"
   ]
  },
  {
   "cell_type": "code",
   "execution_count": 1092,
   "metadata": {},
   "outputs": [],
   "source": [
    "def preprocess_pixel_strings(pixel_strings, target_size=(256, 256)):\n",
    "    images = []\n",
    "    for pixel_string in pixel_strings:\n",
    "        pixel_values = np.array([int(x) for x in pixel_string.split()], dtype=np.uint8)\n",
    "\n",
    "        expected_size = target_size[0] * target_size[1]\n",
    "        if len(pixel_values) == expected_size:  # Grayscale image\n",
    "            image = pixel_values.reshape(target_size[0], target_size[1], 1)\n",
    "            image = np.repeat(image, 3, axis=-1)  # Convert to RGB by duplicating channels\n",
    "        elif len(pixel_values) == expected_size * 3:  # RGB image\n",
    "            image = pixel_values.reshape((*target_size, 3))\n",
    "        else:\n",
    "            raise ValueError(f\"Unexpected image size: {len(pixel_values)}\")\n",
    "        images.append(image)\n",
    "    \n",
    "    # Ensure all images are uint8 with pixel values in range [0, 255]\n",
    "    images = np.array(images, dtype=np.uint8)\n",
    "    return images\n",
    "\n"
   ]
  },
  {
   "cell_type": "code",
   "execution_count": 1093,
   "metadata": {},
   "outputs": [],
   "source": [
    "X_train = preprocess_pixel_strings(X_train)\n",
    "X_test = preprocess_pixel_strings(X_test)\n",
    "\n",
    "\n",
    "class_weights = {\n",
    "    0: 1.,   # Emotion 0\n",
    "    1: 1.,   # Emotion 1\n",
    "    2: 1.,   # Emotion 2\n",
    "    3: 1.,   # Emotion 3\n",
    "    4: 1.,   # Emotion 4\n",
    "    5: 1.,   # Emotion 5\n",
    "    6: 0.5,  # Emotion 6 (downweight the majority class)\n",
    "}"
   ]
  },
  {
   "cell_type": "code",
   "execution_count": 1094,
   "metadata": {},
   "outputs": [
    {
     "name": "stdout",
     "output_type": "stream",
     "text": [
      "Epoch 1/10\n",
      "\u001b[1m 1/10\u001b[0m \u001b[32m━━\u001b[0m\u001b[37m━━━━━━━━━━━━━━━━━━\u001b[0m \u001b[1m53s\u001b[0m 6s/step - accuracy: 0.1250 - loss: 1.7635"
     ]
    },
    {
     "name": "stderr",
     "output_type": "stream",
     "text": [
      "c:\\Users\\wowen\\desktop\\Scewl Werk\\ITCS-5154\\Project\\ITSC-5154-Project\\.venv\\Lib\\site-packages\\sklearn\\decomposition\\_pca.py:794: RuntimeWarning: invalid value encountered in divide\n",
      "  self.explained_variance_ratio_ = self.explained_variance_ / total_var\n"
     ]
    },
    {
     "name": "stdout",
     "output_type": "stream",
     "text": [
      "\u001b[1m 2/10\u001b[0m \u001b[32m━━━━\u001b[0m\u001b[37m━━━━━━━━━━━━━━━━\u001b[0m \u001b[1m43s\u001b[0m 5s/step - accuracy: 0.1289 - loss: 1.7673"
     ]
    },
    {
     "name": "stderr",
     "output_type": "stream",
     "text": [
      "c:\\Users\\wowen\\desktop\\Scewl Werk\\ITCS-5154\\Project\\ITSC-5154-Project\\.venv\\Lib\\site-packages\\sklearn\\decomposition\\_pca.py:794: RuntimeWarning: invalid value encountered in divide\n",
      "  self.explained_variance_ratio_ = self.explained_variance_ / total_var\n"
     ]
    },
    {
     "name": "stdout",
     "output_type": "stream",
     "text": [
      "\u001b[1m 3/10\u001b[0m \u001b[32m━━━━━━\u001b[0m\u001b[37m━━━━━━━━━━━━━━\u001b[0m \u001b[1m37s\u001b[0m 5s/step - accuracy: 0.1293 - loss: 1.7711"
     ]
    },
    {
     "name": "stderr",
     "output_type": "stream",
     "text": [
      "c:\\Users\\wowen\\desktop\\Scewl Werk\\ITCS-5154\\Project\\ITSC-5154-Project\\.venv\\Lib\\site-packages\\sklearn\\decomposition\\_pca.py:794: RuntimeWarning: invalid value encountered in divide\n",
      "  self.explained_variance_ratio_ = self.explained_variance_ / total_var\n"
     ]
    },
    {
     "name": "stdout",
     "output_type": "stream",
     "text": [
      "\u001b[1m 4/10\u001b[0m \u001b[32m━━━━━━━━\u001b[0m\u001b[37m━━━━━━━━━━━━\u001b[0m \u001b[1m31s\u001b[0m 5s/step - accuracy: 0.1380 - loss: 1.7673"
     ]
    },
    {
     "name": "stderr",
     "output_type": "stream",
     "text": [
      "c:\\Users\\wowen\\desktop\\Scewl Werk\\ITCS-5154\\Project\\ITSC-5154-Project\\.venv\\Lib\\site-packages\\sklearn\\decomposition\\_pca.py:794: RuntimeWarning: invalid value encountered in divide\n",
      "  self.explained_variance_ratio_ = self.explained_variance_ / total_var\n"
     ]
    },
    {
     "name": "stdout",
     "output_type": "stream",
     "text": [
      "\u001b[1m 5/10\u001b[0m \u001b[32m━━━━━━━━━━\u001b[0m\u001b[37m━━━━━━━━━━\u001b[0m \u001b[1m26s\u001b[0m 5s/step - accuracy: 0.1429 - loss: 1.7629"
     ]
    },
    {
     "name": "stderr",
     "output_type": "stream",
     "text": [
      "c:\\Users\\wowen\\desktop\\Scewl Werk\\ITCS-5154\\Project\\ITSC-5154-Project\\.venv\\Lib\\site-packages\\sklearn\\decomposition\\_pca.py:794: RuntimeWarning: invalid value encountered in divide\n",
      "  self.explained_variance_ratio_ = self.explained_variance_ / total_var\n"
     ]
    },
    {
     "name": "stdout",
     "output_type": "stream",
     "text": [
      "\u001b[1m 6/10\u001b[0m \u001b[32m━━━━━━━━━━━━\u001b[0m\u001b[37m━━━━━━━━\u001b[0m \u001b[1m21s\u001b[0m 5s/step - accuracy: 0.1443 - loss: 1.7587"
     ]
    },
    {
     "name": "stderr",
     "output_type": "stream",
     "text": [
      "c:\\Users\\wowen\\desktop\\Scewl Werk\\ITCS-5154\\Project\\ITSC-5154-Project\\.venv\\Lib\\site-packages\\sklearn\\decomposition\\_pca.py:794: RuntimeWarning: invalid value encountered in divide\n",
      "  self.explained_variance_ratio_ = self.explained_variance_ / total_var\n"
     ]
    },
    {
     "name": "stdout",
     "output_type": "stream",
     "text": [
      "\u001b[1m 7/10\u001b[0m \u001b[32m━━━━━━━━━━━━━━\u001b[0m\u001b[37m━━━━━━\u001b[0m \u001b[1m15s\u001b[0m 5s/step - accuracy: 0.1460 - loss: 1.7563"
     ]
    },
    {
     "name": "stderr",
     "output_type": "stream",
     "text": [
      "c:\\Users\\wowen\\desktop\\Scewl Werk\\ITCS-5154\\Project\\ITSC-5154-Project\\.venv\\Lib\\site-packages\\sklearn\\decomposition\\_pca.py:794: RuntimeWarning: invalid value encountered in divide\n",
      "  self.explained_variance_ratio_ = self.explained_variance_ / total_var\n"
     ]
    },
    {
     "name": "stdout",
     "output_type": "stream",
     "text": [
      "\u001b[1m 8/10\u001b[0m \u001b[32m━━━━━━━━━━━━━━━━\u001b[0m\u001b[37m━━━━\u001b[0m \u001b[1m10s\u001b[0m 5s/step - accuracy: 0.1465 - loss: 1.7541"
     ]
    },
    {
     "name": "stderr",
     "output_type": "stream",
     "text": [
      "c:\\Users\\wowen\\desktop\\Scewl Werk\\ITCS-5154\\Project\\ITSC-5154-Project\\.venv\\Lib\\site-packages\\sklearn\\decomposition\\_pca.py:794: RuntimeWarning: invalid value encountered in divide\n",
      "  self.explained_variance_ratio_ = self.explained_variance_ / total_var\n"
     ]
    },
    {
     "name": "stdout",
     "output_type": "stream",
     "text": [
      "\u001b[1m 9/10\u001b[0m \u001b[32m━━━━━━━━━━━━━━━━━━\u001b[0m\u001b[37m━━\u001b[0m \u001b[1m5s\u001b[0m 5s/step - accuracy: 0.1468 - loss: 1.7527 "
     ]
    },
    {
     "name": "stderr",
     "output_type": "stream",
     "text": [
      "c:\\Users\\wowen\\desktop\\Scewl Werk\\ITCS-5154\\Project\\ITSC-5154-Project\\.venv\\Lib\\site-packages\\sklearn\\decomposition\\_pca.py:794: RuntimeWarning: invalid value encountered in divide\n",
      "  self.explained_variance_ratio_ = self.explained_variance_ / total_var\n"
     ]
    },
    {
     "name": "stdout",
     "output_type": "stream",
     "text": [
      "\u001b[1m10/10\u001b[0m \u001b[32m━━━━━━━━━━━━━━━━━━━━\u001b[0m\u001b[37m\u001b[0m \u001b[1m51s\u001b[0m 5s/step - accuracy: 0.1483 - loss: 1.7521\n",
      "Epoch 2/10\n"
     ]
    },
    {
     "name": "stderr",
     "output_type": "stream",
     "text": [
      "c:\\Users\\wowen\\desktop\\Scewl Werk\\ITCS-5154\\Project\\ITSC-5154-Project\\.venv\\Lib\\site-packages\\sklearn\\decomposition\\_pca.py:794: RuntimeWarning: invalid value encountered in divide\n",
      "  self.explained_variance_ratio_ = self.explained_variance_ / total_var\n"
     ]
    },
    {
     "name": "stdout",
     "output_type": "stream",
     "text": [
      "\u001b[1m 1/10\u001b[0m \u001b[32m━━\u001b[0m\u001b[37m━━━━━━━━━━━━━━━━━━\u001b[0m \u001b[1m47s\u001b[0m 5s/step - accuracy: 0.1250 - loss: 1.6419"
     ]
    },
    {
     "name": "stderr",
     "output_type": "stream",
     "text": [
      "c:\\Users\\wowen\\desktop\\Scewl Werk\\ITCS-5154\\Project\\ITSC-5154-Project\\.venv\\Lib\\site-packages\\sklearn\\decomposition\\_pca.py:794: RuntimeWarning: invalid value encountered in divide\n",
      "  self.explained_variance_ratio_ = self.explained_variance_ / total_var\n"
     ]
    },
    {
     "name": "stdout",
     "output_type": "stream",
     "text": [
      "\u001b[1m 2/10\u001b[0m \u001b[32m━━━━\u001b[0m\u001b[37m━━━━━━━━━━━━━━━━\u001b[0m \u001b[1m42s\u001b[0m 5s/step - accuracy: 0.1602 - loss: 1.6837"
     ]
    },
    {
     "name": "stderr",
     "output_type": "stream",
     "text": [
      "c:\\Users\\wowen\\desktop\\Scewl Werk\\ITCS-5154\\Project\\ITSC-5154-Project\\.venv\\Lib\\site-packages\\sklearn\\decomposition\\_pca.py:794: RuntimeWarning: invalid value encountered in divide\n",
      "  self.explained_variance_ratio_ = self.explained_variance_ / total_var\n"
     ]
    },
    {
     "name": "stdout",
     "output_type": "stream",
     "text": [
      "\u001b[1m 3/10\u001b[0m \u001b[32m━━━━━━\u001b[0m\u001b[37m━━━━━━━━━━━━━━\u001b[0m \u001b[1m36s\u001b[0m 5s/step - accuracy: 0.1727 - loss: 1.6984"
     ]
    },
    {
     "name": "stderr",
     "output_type": "stream",
     "text": [
      "c:\\Users\\wowen\\desktop\\Scewl Werk\\ITCS-5154\\Project\\ITSC-5154-Project\\.venv\\Lib\\site-packages\\sklearn\\decomposition\\_pca.py:794: RuntimeWarning: invalid value encountered in divide\n",
      "  self.explained_variance_ratio_ = self.explained_variance_ / total_var\n"
     ]
    },
    {
     "name": "stdout",
     "output_type": "stream",
     "text": [
      "\u001b[1m 4/10\u001b[0m \u001b[32m━━━━━━━━\u001b[0m\u001b[37m━━━━━━━━━━━━\u001b[0m \u001b[1m32s\u001b[0m 5s/step - accuracy: 0.1735 - loss: 1.7109"
     ]
    },
    {
     "name": "stderr",
     "output_type": "stream",
     "text": [
      "c:\\Users\\wowen\\desktop\\Scewl Werk\\ITCS-5154\\Project\\ITSC-5154-Project\\.venv\\Lib\\site-packages\\sklearn\\decomposition\\_pca.py:794: RuntimeWarning: invalid value encountered in divide\n",
      "  self.explained_variance_ratio_ = self.explained_variance_ / total_var\n"
     ]
    },
    {
     "name": "stdout",
     "output_type": "stream",
     "text": [
      "\u001b[1m 5/10\u001b[0m \u001b[32m━━━━━━━━━━\u001b[0m\u001b[37m━━━━━━━━━━\u001b[0m \u001b[1m26s\u001b[0m 5s/step - accuracy: 0.1719 - loss: 1.7165"
     ]
    },
    {
     "name": "stderr",
     "output_type": "stream",
     "text": [
      "c:\\Users\\wowen\\desktop\\Scewl Werk\\ITCS-5154\\Project\\ITSC-5154-Project\\.venv\\Lib\\site-packages\\sklearn\\decomposition\\_pca.py:794: RuntimeWarning: invalid value encountered in divide\n",
      "  self.explained_variance_ratio_ = self.explained_variance_ / total_var\n"
     ]
    },
    {
     "name": "stdout",
     "output_type": "stream",
     "text": [
      "\u001b[1m 6/10\u001b[0m \u001b[32m━━━━━━━━━━━━\u001b[0m\u001b[37m━━━━━━━━\u001b[0m \u001b[1m21s\u001b[0m 5s/step - accuracy: 0.1689 - loss: 1.7214"
     ]
    },
    {
     "name": "stderr",
     "output_type": "stream",
     "text": [
      "c:\\Users\\wowen\\desktop\\Scewl Werk\\ITCS-5154\\Project\\ITSC-5154-Project\\.venv\\Lib\\site-packages\\sklearn\\decomposition\\_pca.py:794: RuntimeWarning: invalid value encountered in divide\n",
      "  self.explained_variance_ratio_ = self.explained_variance_ / total_var\n"
     ]
    },
    {
     "name": "stdout",
     "output_type": "stream",
     "text": [
      "\u001b[1m 7/10\u001b[0m \u001b[32m━━━━━━━━━━━━━━\u001b[0m\u001b[37m━━━━━━\u001b[0m \u001b[1m16s\u001b[0m 5s/step - accuracy: 0.1680 - loss: 1.7255"
     ]
    },
    {
     "name": "stderr",
     "output_type": "stream",
     "text": [
      "c:\\Users\\wowen\\desktop\\Scewl Werk\\ITCS-5154\\Project\\ITSC-5154-Project\\.venv\\Lib\\site-packages\\sklearn\\decomposition\\_pca.py:794: RuntimeWarning: invalid value encountered in divide\n",
      "  self.explained_variance_ratio_ = self.explained_variance_ / total_var\n"
     ]
    },
    {
     "name": "stdout",
     "output_type": "stream",
     "text": [
      "\u001b[1m 8/10\u001b[0m \u001b[32m━━━━━━━━━━━━━━━━\u001b[0m\u001b[37m━━━━\u001b[0m \u001b[1m10s\u001b[0m 5s/step - accuracy: 0.1668 - loss: 1.7284"
     ]
    },
    {
     "name": "stderr",
     "output_type": "stream",
     "text": [
      "c:\\Users\\wowen\\desktop\\Scewl Werk\\ITCS-5154\\Project\\ITSC-5154-Project\\.venv\\Lib\\site-packages\\sklearn\\decomposition\\_pca.py:794: RuntimeWarning: invalid value encountered in divide\n",
      "  self.explained_variance_ratio_ = self.explained_variance_ / total_var\n"
     ]
    },
    {
     "name": "stdout",
     "output_type": "stream",
     "text": [
      "\u001b[1m 9/10\u001b[0m \u001b[32m━━━━━━━━━━━━━━━━━━\u001b[0m\u001b[37m━━\u001b[0m \u001b[1m5s\u001b[0m 5s/step - accuracy: 0.1658 - loss: 1.7309 "
     ]
    },
    {
     "name": "stderr",
     "output_type": "stream",
     "text": [
      "c:\\Users\\wowen\\desktop\\Scewl Werk\\ITCS-5154\\Project\\ITSC-5154-Project\\.venv\\Lib\\site-packages\\sklearn\\decomposition\\_pca.py:794: RuntimeWarning: invalid value encountered in divide\n",
      "  self.explained_variance_ratio_ = self.explained_variance_ / total_var\n"
     ]
    },
    {
     "name": "stdout",
     "output_type": "stream",
     "text": [
      "\u001b[1m10/10\u001b[0m \u001b[32m━━━━━━━━━━━━━━━━━━━━\u001b[0m\u001b[37m\u001b[0m \u001b[1m51s\u001b[0m 5s/step - accuracy: 0.1647 - loss: 1.7342\n",
      "Epoch 3/10\n"
     ]
    },
    {
     "name": "stderr",
     "output_type": "stream",
     "text": [
      "c:\\Users\\wowen\\desktop\\Scewl Werk\\ITCS-5154\\Project\\ITSC-5154-Project\\.venv\\Lib\\site-packages\\sklearn\\decomposition\\_pca.py:794: RuntimeWarning: invalid value encountered in divide\n",
      "  self.explained_variance_ratio_ = self.explained_variance_ / total_var\n"
     ]
    },
    {
     "name": "stdout",
     "output_type": "stream",
     "text": [
      "\u001b[1m 1/10\u001b[0m \u001b[32m━━\u001b[0m\u001b[37m━━━━━━━━━━━━━━━━━━\u001b[0m \u001b[1m48s\u001b[0m 5s/step - accuracy: 0.1875 - loss: 1.7481"
     ]
    },
    {
     "name": "stderr",
     "output_type": "stream",
     "text": [
      "c:\\Users\\wowen\\desktop\\Scewl Werk\\ITCS-5154\\Project\\ITSC-5154-Project\\.venv\\Lib\\site-packages\\sklearn\\decomposition\\_pca.py:794: RuntimeWarning: invalid value encountered in divide\n",
      "  self.explained_variance_ratio_ = self.explained_variance_ / total_var\n"
     ]
    },
    {
     "name": "stdout",
     "output_type": "stream",
     "text": [
      "\u001b[1m 2/10\u001b[0m \u001b[32m━━━━\u001b[0m\u001b[37m━━━━━━━━━━━━━━━━\u001b[0m \u001b[1m43s\u001b[0m 5s/step - accuracy: 0.2031 - loss: 1.7595"
     ]
    },
    {
     "name": "stderr",
     "output_type": "stream",
     "text": [
      "c:\\Users\\wowen\\desktop\\Scewl Werk\\ITCS-5154\\Project\\ITSC-5154-Project\\.venv\\Lib\\site-packages\\sklearn\\decomposition\\_pca.py:794: RuntimeWarning: invalid value encountered in divide\n",
      "  self.explained_variance_ratio_ = self.explained_variance_ / total_var\n"
     ]
    },
    {
     "name": "stdout",
     "output_type": "stream",
     "text": [
      "\u001b[1m 3/10\u001b[0m \u001b[32m━━━━━━\u001b[0m\u001b[37m━━━━━━━━━━━━━━\u001b[0m \u001b[1m38s\u001b[0m 5s/step - accuracy: 0.1979 - loss: 1.7658"
     ]
    },
    {
     "name": "stderr",
     "output_type": "stream",
     "text": [
      "c:\\Users\\wowen\\desktop\\Scewl Werk\\ITCS-5154\\Project\\ITSC-5154-Project\\.venv\\Lib\\site-packages\\sklearn\\decomposition\\_pca.py:794: RuntimeWarning: invalid value encountered in divide\n",
      "  self.explained_variance_ratio_ = self.explained_variance_ / total_var\n"
     ]
    },
    {
     "name": "stdout",
     "output_type": "stream",
     "text": [
      "\u001b[1m 4/10\u001b[0m \u001b[32m━━━━━━━━\u001b[0m\u001b[37m━━━━━━━━━━━━\u001b[0m \u001b[1m32s\u001b[0m 5s/step - accuracy: 0.1963 - loss: 1.7661"
     ]
    },
    {
     "name": "stderr",
     "output_type": "stream",
     "text": [
      "c:\\Users\\wowen\\desktop\\Scewl Werk\\ITCS-5154\\Project\\ITSC-5154-Project\\.venv\\Lib\\site-packages\\sklearn\\decomposition\\_pca.py:794: RuntimeWarning: invalid value encountered in divide\n",
      "  self.explained_variance_ratio_ = self.explained_variance_ / total_var\n"
     ]
    },
    {
     "name": "stdout",
     "output_type": "stream",
     "text": [
      "\u001b[1m 5/10\u001b[0m \u001b[32m━━━━━━━━━━\u001b[0m\u001b[37m━━━━━━━━━━\u001b[0m \u001b[1m26s\u001b[0m 5s/step - accuracy: 0.1920 - loss: 1.7680"
     ]
    },
    {
     "name": "stderr",
     "output_type": "stream",
     "text": [
      "c:\\Users\\wowen\\desktop\\Scewl Werk\\ITCS-5154\\Project\\ITSC-5154-Project\\.venv\\Lib\\site-packages\\sklearn\\decomposition\\_pca.py:794: RuntimeWarning: invalid value encountered in divide\n",
      "  self.explained_variance_ratio_ = self.explained_variance_ / total_var\n"
     ]
    },
    {
     "name": "stdout",
     "output_type": "stream",
     "text": [
      "\u001b[1m 6/10\u001b[0m \u001b[32m━━━━━━━━━━━━\u001b[0m\u001b[37m━━━━━━━━\u001b[0m \u001b[1m21s\u001b[0m 5s/step - accuracy: 0.1900 - loss: 1.7693"
     ]
    },
    {
     "name": "stderr",
     "output_type": "stream",
     "text": [
      "c:\\Users\\wowen\\desktop\\Scewl Werk\\ITCS-5154\\Project\\ITSC-5154-Project\\.venv\\Lib\\site-packages\\sklearn\\decomposition\\_pca.py:794: RuntimeWarning: invalid value encountered in divide\n",
      "  self.explained_variance_ratio_ = self.explained_variance_ / total_var\n"
     ]
    },
    {
     "name": "stdout",
     "output_type": "stream",
     "text": [
      "\u001b[1m 7/10\u001b[0m \u001b[32m━━━━━━━━━━━━━━\u001b[0m\u001b[37m━━━━━━\u001b[0m \u001b[1m16s\u001b[0m 5s/step - accuracy: 0.1868 - loss: 1.7685"
     ]
    },
    {
     "name": "stderr",
     "output_type": "stream",
     "text": [
      "c:\\Users\\wowen\\desktop\\Scewl Werk\\ITCS-5154\\Project\\ITSC-5154-Project\\.venv\\Lib\\site-packages\\sklearn\\decomposition\\_pca.py:794: RuntimeWarning: invalid value encountered in divide\n",
      "  self.explained_variance_ratio_ = self.explained_variance_ / total_var\n"
     ]
    },
    {
     "name": "stdout",
     "output_type": "stream",
     "text": [
      "\u001b[1m 8/10\u001b[0m \u001b[32m━━━━━━━━━━━━━━━━\u001b[0m\u001b[37m━━━━\u001b[0m \u001b[1m10s\u001b[0m 5s/step - accuracy: 0.1839 - loss: 1.7676"
     ]
    },
    {
     "name": "stderr",
     "output_type": "stream",
     "text": [
      "c:\\Users\\wowen\\desktop\\Scewl Werk\\ITCS-5154\\Project\\ITSC-5154-Project\\.venv\\Lib\\site-packages\\sklearn\\decomposition\\_pca.py:794: RuntimeWarning: invalid value encountered in divide\n",
      "  self.explained_variance_ratio_ = self.explained_variance_ / total_var\n"
     ]
    },
    {
     "name": "stdout",
     "output_type": "stream",
     "text": [
      "\u001b[1m 9/10\u001b[0m \u001b[32m━━━━━━━━━━━━━━━━━━\u001b[0m\u001b[37m━━\u001b[0m \u001b[1m5s\u001b[0m 5s/step - accuracy: 0.1814 - loss: 1.7658 "
     ]
    },
    {
     "name": "stderr",
     "output_type": "stream",
     "text": [
      "c:\\Users\\wowen\\desktop\\Scewl Werk\\ITCS-5154\\Project\\ITSC-5154-Project\\.venv\\Lib\\site-packages\\sklearn\\decomposition\\_pca.py:794: RuntimeWarning: invalid value encountered in divide\n",
      "  self.explained_variance_ratio_ = self.explained_variance_ / total_var\n"
     ]
    },
    {
     "name": "stdout",
     "output_type": "stream",
     "text": [
      "\u001b[1m10/10\u001b[0m \u001b[32m━━━━━━━━━━━━━━━━━━━━\u001b[0m\u001b[37m\u001b[0m \u001b[1m51s\u001b[0m 5s/step - accuracy: 0.1775 - loss: 1.7628\n",
      "Epoch 4/10\n"
     ]
    },
    {
     "name": "stderr",
     "output_type": "stream",
     "text": [
      "c:\\Users\\wowen\\desktop\\Scewl Werk\\ITCS-5154\\Project\\ITSC-5154-Project\\.venv\\Lib\\site-packages\\sklearn\\decomposition\\_pca.py:794: RuntimeWarning: invalid value encountered in divide\n",
      "  self.explained_variance_ratio_ = self.explained_variance_ / total_var\n"
     ]
    },
    {
     "name": "stdout",
     "output_type": "stream",
     "text": [
      "\u001b[1m 1/10\u001b[0m \u001b[32m━━\u001b[0m\u001b[37m━━━━━━━━━━━━━━━━━━\u001b[0m \u001b[1m46s\u001b[0m 5s/step - accuracy: 0.1719 - loss: 1.7785"
     ]
    },
    {
     "name": "stderr",
     "output_type": "stream",
     "text": [
      "c:\\Users\\wowen\\desktop\\Scewl Werk\\ITCS-5154\\Project\\ITSC-5154-Project\\.venv\\Lib\\site-packages\\sklearn\\decomposition\\_pca.py:794: RuntimeWarning: invalid value encountered in divide\n",
      "  self.explained_variance_ratio_ = self.explained_variance_ / total_var\n"
     ]
    },
    {
     "name": "stdout",
     "output_type": "stream",
     "text": [
      "\u001b[1m 2/10\u001b[0m \u001b[32m━━━━\u001b[0m\u001b[37m━━━━━━━━━━━━━━━━\u001b[0m \u001b[1m42s\u001b[0m 5s/step - accuracy: 0.1758 - loss: 1.7823"
     ]
    },
    {
     "name": "stderr",
     "output_type": "stream",
     "text": [
      "c:\\Users\\wowen\\desktop\\Scewl Werk\\ITCS-5154\\Project\\ITSC-5154-Project\\.venv\\Lib\\site-packages\\sklearn\\decomposition\\_pca.py:794: RuntimeWarning: invalid value encountered in divide\n",
      "  self.explained_variance_ratio_ = self.explained_variance_ / total_var\n"
     ]
    },
    {
     "name": "stdout",
     "output_type": "stream",
     "text": [
      "\u001b[1m 3/10\u001b[0m \u001b[32m━━━━━━\u001b[0m\u001b[37m━━━━━━━━━━━━━━\u001b[0m \u001b[1m37s\u001b[0m 5s/step - accuracy: 0.1693 - loss: 1.7844"
     ]
    },
    {
     "name": "stderr",
     "output_type": "stream",
     "text": [
      "c:\\Users\\wowen\\desktop\\Scewl Werk\\ITCS-5154\\Project\\ITSC-5154-Project\\.venv\\Lib\\site-packages\\sklearn\\decomposition\\_pca.py:794: RuntimeWarning: invalid value encountered in divide\n",
      "  self.explained_variance_ratio_ = self.explained_variance_ / total_var\n"
     ]
    },
    {
     "name": "stdout",
     "output_type": "stream",
     "text": [
      "\u001b[1m 4/10\u001b[0m \u001b[32m━━━━━━━━\u001b[0m\u001b[37m━━━━━━━━━━━━\u001b[0m \u001b[1m32s\u001b[0m 5s/step - accuracy: 0.1709 - loss: 1.7876"
     ]
    },
    {
     "name": "stderr",
     "output_type": "stream",
     "text": [
      "c:\\Users\\wowen\\desktop\\Scewl Werk\\ITCS-5154\\Project\\ITSC-5154-Project\\.venv\\Lib\\site-packages\\sklearn\\decomposition\\_pca.py:794: RuntimeWarning: invalid value encountered in divide\n",
      "  self.explained_variance_ratio_ = self.explained_variance_ / total_var\n"
     ]
    },
    {
     "name": "stdout",
     "output_type": "stream",
     "text": [
      "\u001b[1m 5/10\u001b[0m \u001b[32m━━━━━━━━━━\u001b[0m\u001b[37m━━━━━━━━━━\u001b[0m \u001b[1m26s\u001b[0m 5s/step - accuracy: 0.1730 - loss: 1.7870"
     ]
    },
    {
     "name": "stderr",
     "output_type": "stream",
     "text": [
      "c:\\Users\\wowen\\desktop\\Scewl Werk\\ITCS-5154\\Project\\ITSC-5154-Project\\.venv\\Lib\\site-packages\\sklearn\\decomposition\\_pca.py:794: RuntimeWarning: invalid value encountered in divide\n",
      "  self.explained_variance_ratio_ = self.explained_variance_ / total_var\n"
     ]
    },
    {
     "name": "stdout",
     "output_type": "stream",
     "text": [
      "\u001b[1m 6/10\u001b[0m \u001b[32m━━━━━━━━━━━━\u001b[0m\u001b[37m━━━━━━━━\u001b[0m \u001b[1m21s\u001b[0m 5s/step - accuracy: 0.1706 - loss: 1.7839"
     ]
    },
    {
     "name": "stderr",
     "output_type": "stream",
     "text": [
      "c:\\Users\\wowen\\desktop\\Scewl Werk\\ITCS-5154\\Project\\ITSC-5154-Project\\.venv\\Lib\\site-packages\\sklearn\\decomposition\\_pca.py:794: RuntimeWarning: invalid value encountered in divide\n",
      "  self.explained_variance_ratio_ = self.explained_variance_ / total_var\n"
     ]
    },
    {
     "name": "stdout",
     "output_type": "stream",
     "text": [
      "\u001b[1m 7/10\u001b[0m \u001b[32m━━━━━━━━━━━━━━\u001b[0m\u001b[37m━━━━━━\u001b[0m \u001b[1m16s\u001b[0m 5s/step - accuracy: 0.1679 - loss: 1.7813"
     ]
    },
    {
     "name": "stderr",
     "output_type": "stream",
     "text": [
      "c:\\Users\\wowen\\desktop\\Scewl Werk\\ITCS-5154\\Project\\ITSC-5154-Project\\.venv\\Lib\\site-packages\\sklearn\\decomposition\\_pca.py:794: RuntimeWarning: invalid value encountered in divide\n",
      "  self.explained_variance_ratio_ = self.explained_variance_ / total_var\n"
     ]
    },
    {
     "name": "stdout",
     "output_type": "stream",
     "text": [
      "\u001b[1m 8/10\u001b[0m \u001b[32m━━━━━━━━━━━━━━━━\u001b[0m\u001b[37m━━━━\u001b[0m \u001b[1m10s\u001b[0m 5s/step - accuracy: 0.1662 - loss: 1.7783"
     ]
    },
    {
     "name": "stderr",
     "output_type": "stream",
     "text": [
      "c:\\Users\\wowen\\desktop\\Scewl Werk\\ITCS-5154\\Project\\ITSC-5154-Project\\.venv\\Lib\\site-packages\\sklearn\\decomposition\\_pca.py:794: RuntimeWarning: invalid value encountered in divide\n",
      "  self.explained_variance_ratio_ = self.explained_variance_ / total_var\n"
     ]
    },
    {
     "name": "stdout",
     "output_type": "stream",
     "text": [
      "\u001b[1m 9/10\u001b[0m \u001b[32m━━━━━━━━━━━━━━━━━━\u001b[0m\u001b[37m━━\u001b[0m \u001b[1m5s\u001b[0m 5s/step - accuracy: 0.1655 - loss: 1.7757 "
     ]
    },
    {
     "name": "stderr",
     "output_type": "stream",
     "text": [
      "c:\\Users\\wowen\\desktop\\Scewl Werk\\ITCS-5154\\Project\\ITSC-5154-Project\\.venv\\Lib\\site-packages\\sklearn\\decomposition\\_pca.py:794: RuntimeWarning: invalid value encountered in divide\n",
      "  self.explained_variance_ratio_ = self.explained_variance_ / total_var\n"
     ]
    },
    {
     "name": "stdout",
     "output_type": "stream",
     "text": [
      "\u001b[1m10/10\u001b[0m \u001b[32m━━━━━━━━━━━━━━━━━━━━\u001b[0m\u001b[37m\u001b[0m \u001b[1m51s\u001b[0m 5s/step - accuracy: 0.1645 - loss: 1.7708\n",
      "Epoch 5/10\n"
     ]
    },
    {
     "name": "stderr",
     "output_type": "stream",
     "text": [
      "c:\\Users\\wowen\\desktop\\Scewl Werk\\ITCS-5154\\Project\\ITSC-5154-Project\\.venv\\Lib\\site-packages\\sklearn\\decomposition\\_pca.py:794: RuntimeWarning: invalid value encountered in divide\n",
      "  self.explained_variance_ratio_ = self.explained_variance_ / total_var\n"
     ]
    },
    {
     "name": "stdout",
     "output_type": "stream",
     "text": [
      "\u001b[1m 1/10\u001b[0m \u001b[32m━━\u001b[0m\u001b[37m━━━━━━━━━━━━━━━━━━\u001b[0m \u001b[1m48s\u001b[0m 5s/step - accuracy: 0.2031 - loss: 1.7479"
     ]
    },
    {
     "name": "stderr",
     "output_type": "stream",
     "text": [
      "c:\\Users\\wowen\\desktop\\Scewl Werk\\ITCS-5154\\Project\\ITSC-5154-Project\\.venv\\Lib\\site-packages\\sklearn\\decomposition\\_pca.py:794: RuntimeWarning: invalid value encountered in divide\n",
      "  self.explained_variance_ratio_ = self.explained_variance_ / total_var\n"
     ]
    },
    {
     "name": "stdout",
     "output_type": "stream",
     "text": [
      "\u001b[1m 2/10\u001b[0m \u001b[32m━━━━\u001b[0m\u001b[37m━━━━━━━━━━━━━━━━\u001b[0m \u001b[1m42s\u001b[0m 5s/step - accuracy: 0.1758 - loss: 1.7404"
     ]
    },
    {
     "name": "stderr",
     "output_type": "stream",
     "text": [
      "c:\\Users\\wowen\\desktop\\Scewl Werk\\ITCS-5154\\Project\\ITSC-5154-Project\\.venv\\Lib\\site-packages\\sklearn\\decomposition\\_pca.py:794: RuntimeWarning: invalid value encountered in divide\n",
      "  self.explained_variance_ratio_ = self.explained_variance_ / total_var\n"
     ]
    },
    {
     "name": "stdout",
     "output_type": "stream",
     "text": [
      "\u001b[1m 3/10\u001b[0m \u001b[32m━━━━━━\u001b[0m\u001b[37m━━━━━━━━━━━━━━\u001b[0m \u001b[1m36s\u001b[0m 5s/step - accuracy: 0.1658 - loss: 1.7430"
     ]
    },
    {
     "name": "stderr",
     "output_type": "stream",
     "text": [
      "c:\\Users\\wowen\\desktop\\Scewl Werk\\ITCS-5154\\Project\\ITSC-5154-Project\\.venv\\Lib\\site-packages\\sklearn\\decomposition\\_pca.py:794: RuntimeWarning: invalid value encountered in divide\n",
      "  self.explained_variance_ratio_ = self.explained_variance_ / total_var\n"
     ]
    },
    {
     "name": "stdout",
     "output_type": "stream",
     "text": [
      "\u001b[1m 4/10\u001b[0m \u001b[32m━━━━━━━━\u001b[0m\u001b[37m━━━━━━━━━━━━\u001b[0m \u001b[1m31s\u001b[0m 5s/step - accuracy: 0.1585 - loss: 1.7462"
     ]
    },
    {
     "name": "stderr",
     "output_type": "stream",
     "text": [
      "c:\\Users\\wowen\\desktop\\Scewl Werk\\ITCS-5154\\Project\\ITSC-5154-Project\\.venv\\Lib\\site-packages\\sklearn\\decomposition\\_pca.py:794: RuntimeWarning: invalid value encountered in divide\n",
      "  self.explained_variance_ratio_ = self.explained_variance_ / total_var\n"
     ]
    },
    {
     "name": "stdout",
     "output_type": "stream",
     "text": [
      "\u001b[1m 5/10\u001b[0m \u001b[32m━━━━━━━━━━\u001b[0m\u001b[37m━━━━━━━━━━\u001b[0m \u001b[1m25s\u001b[0m 5s/step - accuracy: 0.1574 - loss: 1.7484"
     ]
    },
    {
     "name": "stderr",
     "output_type": "stream",
     "text": [
      "c:\\Users\\wowen\\desktop\\Scewl Werk\\ITCS-5154\\Project\\ITSC-5154-Project\\.venv\\Lib\\site-packages\\sklearn\\decomposition\\_pca.py:794: RuntimeWarning: invalid value encountered in divide\n",
      "  self.explained_variance_ratio_ = self.explained_variance_ / total_var\n"
     ]
    },
    {
     "name": "stdout",
     "output_type": "stream",
     "text": [
      "\u001b[1m 6/10\u001b[0m \u001b[32m━━━━━━━━━━━━\u001b[0m\u001b[37m━━━━━━━━\u001b[0m \u001b[1m20s\u001b[0m 5s/step - accuracy: 0.1568 - loss: 1.7509"
     ]
    },
    {
     "name": "stderr",
     "output_type": "stream",
     "text": [
      "c:\\Users\\wowen\\desktop\\Scewl Werk\\ITCS-5154\\Project\\ITSC-5154-Project\\.venv\\Lib\\site-packages\\sklearn\\decomposition\\_pca.py:794: RuntimeWarning: invalid value encountered in divide\n",
      "  self.explained_variance_ratio_ = self.explained_variance_ / total_var\n"
     ]
    },
    {
     "name": "stdout",
     "output_type": "stream",
     "text": [
      "\u001b[1m 7/10\u001b[0m \u001b[32m━━━━━━━━━━━━━━\u001b[0m\u001b[37m━━━━━━\u001b[0m \u001b[1m15s\u001b[0m 5s/step - accuracy: 0.1551 - loss: 1.7520"
     ]
    },
    {
     "name": "stderr",
     "output_type": "stream",
     "text": [
      "c:\\Users\\wowen\\desktop\\Scewl Werk\\ITCS-5154\\Project\\ITSC-5154-Project\\.venv\\Lib\\site-packages\\sklearn\\decomposition\\_pca.py:794: RuntimeWarning: invalid value encountered in divide\n",
      "  self.explained_variance_ratio_ = self.explained_variance_ / total_var\n"
     ]
    },
    {
     "name": "stdout",
     "output_type": "stream",
     "text": [
      "\u001b[1m 8/10\u001b[0m \u001b[32m━━━━━━━━━━━━━━━━\u001b[0m\u001b[37m━━━━\u001b[0m \u001b[1m10s\u001b[0m 5s/step - accuracy: 0.1548 - loss: 1.7515"
     ]
    },
    {
     "name": "stderr",
     "output_type": "stream",
     "text": [
      "c:\\Users\\wowen\\desktop\\Scewl Werk\\ITCS-5154\\Project\\ITSC-5154-Project\\.venv\\Lib\\site-packages\\sklearn\\decomposition\\_pca.py:794: RuntimeWarning: invalid value encountered in divide\n",
      "  self.explained_variance_ratio_ = self.explained_variance_ / total_var\n"
     ]
    },
    {
     "name": "stdout",
     "output_type": "stream",
     "text": [
      "\u001b[1m 9/10\u001b[0m \u001b[32m━━━━━━━━━━━━━━━━━━\u001b[0m\u001b[37m━━\u001b[0m \u001b[1m5s\u001b[0m 5s/step - accuracy: 0.1548 - loss: 1.7513 "
     ]
    },
    {
     "name": "stderr",
     "output_type": "stream",
     "text": [
      "c:\\Users\\wowen\\desktop\\Scewl Werk\\ITCS-5154\\Project\\ITSC-5154-Project\\.venv\\Lib\\site-packages\\sklearn\\decomposition\\_pca.py:794: RuntimeWarning: invalid value encountered in divide\n",
      "  self.explained_variance_ratio_ = self.explained_variance_ / total_var\n"
     ]
    },
    {
     "name": "stdout",
     "output_type": "stream",
     "text": [
      "\u001b[1m10/10\u001b[0m \u001b[32m━━━━━━━━━━━━━━━━━━━━\u001b[0m\u001b[37m\u001b[0m \u001b[1m51s\u001b[0m 5s/step - accuracy: 0.1557 - loss: 1.7509\n",
      "Epoch 6/10\n"
     ]
    },
    {
     "name": "stderr",
     "output_type": "stream",
     "text": [
      "c:\\Users\\wowen\\desktop\\Scewl Werk\\ITCS-5154\\Project\\ITSC-5154-Project\\.venv\\Lib\\site-packages\\sklearn\\decomposition\\_pca.py:794: RuntimeWarning: invalid value encountered in divide\n",
      "  self.explained_variance_ratio_ = self.explained_variance_ / total_var\n"
     ]
    },
    {
     "name": "stdout",
     "output_type": "stream",
     "text": [
      "\u001b[1m 1/10\u001b[0m \u001b[32m━━\u001b[0m\u001b[37m━━━━━━━━━━━━━━━━━━\u001b[0m \u001b[1m47s\u001b[0m 5s/step - accuracy: 0.1250 - loss: 1.6874"
     ]
    },
    {
     "name": "stderr",
     "output_type": "stream",
     "text": [
      "c:\\Users\\wowen\\desktop\\Scewl Werk\\ITCS-5154\\Project\\ITSC-5154-Project\\.venv\\Lib\\site-packages\\sklearn\\decomposition\\_pca.py:794: RuntimeWarning: invalid value encountered in divide\n",
      "  self.explained_variance_ratio_ = self.explained_variance_ / total_var\n"
     ]
    },
    {
     "name": "stdout",
     "output_type": "stream",
     "text": [
      "\u001b[1m 2/10\u001b[0m \u001b[32m━━━━\u001b[0m\u001b[37m━━━━━━━━━━━━━━━━\u001b[0m \u001b[1m42s\u001b[0m 5s/step - accuracy: 0.1328 - loss: 1.7140"
     ]
    },
    {
     "name": "stderr",
     "output_type": "stream",
     "text": [
      "c:\\Users\\wowen\\desktop\\Scewl Werk\\ITCS-5154\\Project\\ITSC-5154-Project\\.venv\\Lib\\site-packages\\sklearn\\decomposition\\_pca.py:794: RuntimeWarning: invalid value encountered in divide\n",
      "  self.explained_variance_ratio_ = self.explained_variance_ / total_var\n"
     ]
    },
    {
     "name": "stdout",
     "output_type": "stream",
     "text": [
      "\u001b[1m 3/10\u001b[0m \u001b[32m━━━━━━\u001b[0m\u001b[37m━━━━━━━━━━━━━━\u001b[0m \u001b[1m36s\u001b[0m 5s/step - accuracy: 0.1458 - loss: 1.7152"
     ]
    },
    {
     "name": "stderr",
     "output_type": "stream",
     "text": [
      "c:\\Users\\wowen\\desktop\\Scewl Werk\\ITCS-5154\\Project\\ITSC-5154-Project\\.venv\\Lib\\site-packages\\sklearn\\decomposition\\_pca.py:794: RuntimeWarning: invalid value encountered in divide\n",
      "  self.explained_variance_ratio_ = self.explained_variance_ / total_var\n"
     ]
    },
    {
     "name": "stdout",
     "output_type": "stream",
     "text": [
      "\u001b[1m 4/10\u001b[0m \u001b[32m━━━━━━━━\u001b[0m\u001b[37m━━━━━━━━━━━━\u001b[0m \u001b[1m31s\u001b[0m 5s/step - accuracy: 0.1553 - loss: 1.7139"
     ]
    },
    {
     "name": "stderr",
     "output_type": "stream",
     "text": [
      "c:\\Users\\wowen\\desktop\\Scewl Werk\\ITCS-5154\\Project\\ITSC-5154-Project\\.venv\\Lib\\site-packages\\sklearn\\decomposition\\_pca.py:794: RuntimeWarning: invalid value encountered in divide\n",
      "  self.explained_variance_ratio_ = self.explained_variance_ / total_var\n"
     ]
    },
    {
     "name": "stdout",
     "output_type": "stream",
     "text": [
      "\u001b[1m 5/10\u001b[0m \u001b[32m━━━━━━━━━━\u001b[0m\u001b[37m━━━━━━━━━━\u001b[0m \u001b[1m26s\u001b[0m 5s/step - accuracy: 0.1598 - loss: 1.7140"
     ]
    },
    {
     "name": "stderr",
     "output_type": "stream",
     "text": [
      "c:\\Users\\wowen\\desktop\\Scewl Werk\\ITCS-5154\\Project\\ITSC-5154-Project\\.venv\\Lib\\site-packages\\sklearn\\decomposition\\_pca.py:794: RuntimeWarning: invalid value encountered in divide\n",
      "  self.explained_variance_ratio_ = self.explained_variance_ / total_var\n"
     ]
    },
    {
     "name": "stdout",
     "output_type": "stream",
     "text": [
      "\u001b[1m 6/10\u001b[0m \u001b[32m━━━━━━━━━━━━\u001b[0m\u001b[37m━━━━━━━━\u001b[0m \u001b[1m21s\u001b[0m 5s/step - accuracy: 0.1610 - loss: 1.7142"
     ]
    },
    {
     "name": "stderr",
     "output_type": "stream",
     "text": [
      "c:\\Users\\wowen\\desktop\\Scewl Werk\\ITCS-5154\\Project\\ITSC-5154-Project\\.venv\\Lib\\site-packages\\sklearn\\decomposition\\_pca.py:794: RuntimeWarning: invalid value encountered in divide\n",
      "  self.explained_variance_ratio_ = self.explained_variance_ / total_var\n"
     ]
    },
    {
     "name": "stdout",
     "output_type": "stream",
     "text": [
      "\u001b[1m 7/10\u001b[0m \u001b[32m━━━━━━━━━━━━━━\u001b[0m\u001b[37m━━━━━━\u001b[0m \u001b[1m15s\u001b[0m 5s/step - accuracy: 0.1603 - loss: 1.7157"
     ]
    },
    {
     "name": "stderr",
     "output_type": "stream",
     "text": [
      "c:\\Users\\wowen\\desktop\\Scewl Werk\\ITCS-5154\\Project\\ITSC-5154-Project\\.venv\\Lib\\site-packages\\sklearn\\decomposition\\_pca.py:794: RuntimeWarning: invalid value encountered in divide\n",
      "  self.explained_variance_ratio_ = self.explained_variance_ / total_var\n"
     ]
    },
    {
     "name": "stdout",
     "output_type": "stream",
     "text": [
      "\u001b[1m 8/10\u001b[0m \u001b[32m━━━━━━━━━━━━━━━━\u001b[0m\u001b[37m━━━━\u001b[0m \u001b[1m10s\u001b[0m 5s/step - accuracy: 0.1593 - loss: 1.7178"
     ]
    },
    {
     "name": "stderr",
     "output_type": "stream",
     "text": [
      "c:\\Users\\wowen\\desktop\\Scewl Werk\\ITCS-5154\\Project\\ITSC-5154-Project\\.venv\\Lib\\site-packages\\sklearn\\decomposition\\_pca.py:794: RuntimeWarning: invalid value encountered in divide\n",
      "  self.explained_variance_ratio_ = self.explained_variance_ / total_var\n"
     ]
    },
    {
     "name": "stdout",
     "output_type": "stream",
     "text": [
      "\u001b[1m 9/10\u001b[0m \u001b[32m━━━━━━━━━━━━━━━━━━\u001b[0m\u001b[37m━━\u001b[0m \u001b[1m5s\u001b[0m 5s/step - accuracy: 0.1594 - loss: 1.7208 "
     ]
    },
    {
     "name": "stderr",
     "output_type": "stream",
     "text": [
      "c:\\Users\\wowen\\desktop\\Scewl Werk\\ITCS-5154\\Project\\ITSC-5154-Project\\.venv\\Lib\\site-packages\\sklearn\\decomposition\\_pca.py:794: RuntimeWarning: invalid value encountered in divide\n",
      "  self.explained_variance_ratio_ = self.explained_variance_ / total_var\n"
     ]
    },
    {
     "name": "stdout",
     "output_type": "stream",
     "text": [
      "\u001b[1m10/10\u001b[0m \u001b[32m━━━━━━━━━━━━━━━━━━━━\u001b[0m\u001b[37m\u001b[0m \u001b[1m51s\u001b[0m 5s/step - accuracy: 0.1594 - loss: 1.7259\n",
      "Epoch 7/10\n"
     ]
    },
    {
     "name": "stderr",
     "output_type": "stream",
     "text": [
      "c:\\Users\\wowen\\desktop\\Scewl Werk\\ITCS-5154\\Project\\ITSC-5154-Project\\.venv\\Lib\\site-packages\\sklearn\\decomposition\\_pca.py:794: RuntimeWarning: invalid value encountered in divide\n",
      "  self.explained_variance_ratio_ = self.explained_variance_ / total_var\n"
     ]
    },
    {
     "name": "stdout",
     "output_type": "stream",
     "text": [
      "\u001b[1m 1/10\u001b[0m \u001b[32m━━\u001b[0m\u001b[37m━━━━━━━━━━━━━━━━━━\u001b[0m \u001b[1m48s\u001b[0m 5s/step - accuracy: 0.1406 - loss: 1.8086"
     ]
    },
    {
     "name": "stderr",
     "output_type": "stream",
     "text": [
      "c:\\Users\\wowen\\desktop\\Scewl Werk\\ITCS-5154\\Project\\ITSC-5154-Project\\.venv\\Lib\\site-packages\\sklearn\\decomposition\\_pca.py:794: RuntimeWarning: invalid value encountered in divide\n",
      "  self.explained_variance_ratio_ = self.explained_variance_ / total_var\n"
     ]
    },
    {
     "name": "stdout",
     "output_type": "stream",
     "text": [
      "\u001b[1m 2/10\u001b[0m \u001b[32m━━━━\u001b[0m\u001b[37m━━━━━━━━━━━━━━━━\u001b[0m \u001b[1m42s\u001b[0m 5s/step - accuracy: 0.1562 - loss: 1.8048"
     ]
    },
    {
     "name": "stderr",
     "output_type": "stream",
     "text": [
      "c:\\Users\\wowen\\desktop\\Scewl Werk\\ITCS-5154\\Project\\ITSC-5154-Project\\.venv\\Lib\\site-packages\\sklearn\\decomposition\\_pca.py:794: RuntimeWarning: invalid value encountered in divide\n",
      "  self.explained_variance_ratio_ = self.explained_variance_ / total_var\n"
     ]
    },
    {
     "name": "stdout",
     "output_type": "stream",
     "text": [
      "\u001b[1m 3/10\u001b[0m \u001b[32m━━━━━━\u001b[0m\u001b[37m━━━━━━━━━━━━━━\u001b[0m \u001b[1m37s\u001b[0m 5s/step - accuracy: 0.1545 - loss: 1.7943"
     ]
    },
    {
     "name": "stderr",
     "output_type": "stream",
     "text": [
      "c:\\Users\\wowen\\desktop\\Scewl Werk\\ITCS-5154\\Project\\ITSC-5154-Project\\.venv\\Lib\\site-packages\\sklearn\\decomposition\\_pca.py:794: RuntimeWarning: invalid value encountered in divide\n",
      "  self.explained_variance_ratio_ = self.explained_variance_ / total_var\n"
     ]
    },
    {
     "name": "stdout",
     "output_type": "stream",
     "text": [
      "\u001b[1m 4/10\u001b[0m \u001b[32m━━━━━━━━\u001b[0m\u001b[37m━━━━━━━━━━━━\u001b[0m \u001b[1m32s\u001b[0m 5s/step - accuracy: 0.1520 - loss: 1.7884"
     ]
    },
    {
     "name": "stderr",
     "output_type": "stream",
     "text": [
      "c:\\Users\\wowen\\desktop\\Scewl Werk\\ITCS-5154\\Project\\ITSC-5154-Project\\.venv\\Lib\\site-packages\\sklearn\\decomposition\\_pca.py:794: RuntimeWarning: invalid value encountered in divide\n",
      "  self.explained_variance_ratio_ = self.explained_variance_ / total_var\n"
     ]
    },
    {
     "name": "stdout",
     "output_type": "stream",
     "text": [
      "\u001b[1m 5/10\u001b[0m \u001b[32m━━━━━━━━━━\u001b[0m\u001b[37m━━━━━━━━━━\u001b[0m \u001b[1m26s\u001b[0m 5s/step - accuracy: 0.1522 - loss: 1.7840"
     ]
    },
    {
     "name": "stderr",
     "output_type": "stream",
     "text": [
      "c:\\Users\\wowen\\desktop\\Scewl Werk\\ITCS-5154\\Project\\ITSC-5154-Project\\.venv\\Lib\\site-packages\\sklearn\\decomposition\\_pca.py:794: RuntimeWarning: invalid value encountered in divide\n",
      "  self.explained_variance_ratio_ = self.explained_variance_ / total_var\n"
     ]
    },
    {
     "name": "stdout",
     "output_type": "stream",
     "text": [
      "\u001b[1m 6/10\u001b[0m \u001b[32m━━━━━━━━━━━━\u001b[0m\u001b[37m━━━━━━━━\u001b[0m \u001b[1m21s\u001b[0m 5s/step - accuracy: 0.1546 - loss: 1.7797"
     ]
    },
    {
     "name": "stderr",
     "output_type": "stream",
     "text": [
      "c:\\Users\\wowen\\desktop\\Scewl Werk\\ITCS-5154\\Project\\ITSC-5154-Project\\.venv\\Lib\\site-packages\\sklearn\\decomposition\\_pca.py:794: RuntimeWarning: invalid value encountered in divide\n",
      "  self.explained_variance_ratio_ = self.explained_variance_ / total_var\n"
     ]
    },
    {
     "name": "stdout",
     "output_type": "stream",
     "text": [
      "\u001b[1m 7/10\u001b[0m \u001b[32m━━━━━━━━━━━━━━\u001b[0m\u001b[37m━━━━━━\u001b[0m \u001b[1m15s\u001b[0m 5s/step - accuracy: 0.1558 - loss: 1.7764"
     ]
    },
    {
     "name": "stderr",
     "output_type": "stream",
     "text": [
      "c:\\Users\\wowen\\desktop\\Scewl Werk\\ITCS-5154\\Project\\ITSC-5154-Project\\.venv\\Lib\\site-packages\\sklearn\\decomposition\\_pca.py:794: RuntimeWarning: invalid value encountered in divide\n",
      "  self.explained_variance_ratio_ = self.explained_variance_ / total_var\n"
     ]
    },
    {
     "name": "stdout",
     "output_type": "stream",
     "text": [
      "\u001b[1m 8/10\u001b[0m \u001b[32m━━━━━━━━━━━━━━━━\u001b[0m\u001b[37m━━━━\u001b[0m \u001b[1m10s\u001b[0m 5s/step - accuracy: 0.1561 - loss: 1.7738"
     ]
    },
    {
     "name": "stderr",
     "output_type": "stream",
     "text": [
      "c:\\Users\\wowen\\desktop\\Scewl Werk\\ITCS-5154\\Project\\ITSC-5154-Project\\.venv\\Lib\\site-packages\\sklearn\\decomposition\\_pca.py:794: RuntimeWarning: invalid value encountered in divide\n",
      "  self.explained_variance_ratio_ = self.explained_variance_ / total_var\n"
     ]
    },
    {
     "name": "stdout",
     "output_type": "stream",
     "text": [
      "\u001b[1m 9/10\u001b[0m \u001b[32m━━━━━━━━━━━━━━━━━━\u001b[0m\u001b[37m━━\u001b[0m \u001b[1m5s\u001b[0m 5s/step - accuracy: 0.1569 - loss: 1.7722 "
     ]
    },
    {
     "name": "stderr",
     "output_type": "stream",
     "text": [
      "c:\\Users\\wowen\\desktop\\Scewl Werk\\ITCS-5154\\Project\\ITSC-5154-Project\\.venv\\Lib\\site-packages\\sklearn\\decomposition\\_pca.py:794: RuntimeWarning: invalid value encountered in divide\n",
      "  self.explained_variance_ratio_ = self.explained_variance_ / total_var\n"
     ]
    },
    {
     "name": "stdout",
     "output_type": "stream",
     "text": [
      "\u001b[1m10/10\u001b[0m \u001b[32m━━━━━━━━━━━━━━━━━━━━\u001b[0m\u001b[37m\u001b[0m \u001b[1m51s\u001b[0m 5s/step - accuracy: 0.1574 - loss: 1.7680\n",
      "Epoch 8/10\n"
     ]
    },
    {
     "name": "stderr",
     "output_type": "stream",
     "text": [
      "c:\\Users\\wowen\\desktop\\Scewl Werk\\ITCS-5154\\Project\\ITSC-5154-Project\\.venv\\Lib\\site-packages\\sklearn\\decomposition\\_pca.py:794: RuntimeWarning: invalid value encountered in divide\n",
      "  self.explained_variance_ratio_ = self.explained_variance_ / total_var\n"
     ]
    },
    {
     "name": "stdout",
     "output_type": "stream",
     "text": [
      "\u001b[1m 1/10\u001b[0m \u001b[32m━━\u001b[0m\u001b[37m━━━━━━━━━━━━━━━━━━\u001b[0m \u001b[1m48s\u001b[0m 5s/step - accuracy: 0.2031 - loss: 1.7781"
     ]
    },
    {
     "name": "stderr",
     "output_type": "stream",
     "text": [
      "c:\\Users\\wowen\\desktop\\Scewl Werk\\ITCS-5154\\Project\\ITSC-5154-Project\\.venv\\Lib\\site-packages\\sklearn\\decomposition\\_pca.py:794: RuntimeWarning: invalid value encountered in divide\n",
      "  self.explained_variance_ratio_ = self.explained_variance_ / total_var\n"
     ]
    },
    {
     "name": "stdout",
     "output_type": "stream",
     "text": [
      "\u001b[1m 2/10\u001b[0m \u001b[32m━━━━\u001b[0m\u001b[37m━━━━━━━━━━━━━━━━\u001b[0m \u001b[1m42s\u001b[0m 5s/step - accuracy: 0.1914 - loss: 1.7554"
     ]
    },
    {
     "name": "stderr",
     "output_type": "stream",
     "text": [
      "c:\\Users\\wowen\\desktop\\Scewl Werk\\ITCS-5154\\Project\\ITSC-5154-Project\\.venv\\Lib\\site-packages\\sklearn\\decomposition\\_pca.py:794: RuntimeWarning: invalid value encountered in divide\n",
      "  self.explained_variance_ratio_ = self.explained_variance_ / total_var\n"
     ]
    },
    {
     "name": "stdout",
     "output_type": "stream",
     "text": [
      "\u001b[1m 3/10\u001b[0m \u001b[32m━━━━━━\u001b[0m\u001b[37m━━━━━━━━━━━━━━\u001b[0m \u001b[1m36s\u001b[0m 5s/step - accuracy: 0.1901 - loss: 1.7461"
     ]
    },
    {
     "name": "stderr",
     "output_type": "stream",
     "text": [
      "c:\\Users\\wowen\\desktop\\Scewl Werk\\ITCS-5154\\Project\\ITSC-5154-Project\\.venv\\Lib\\site-packages\\sklearn\\decomposition\\_pca.py:794: RuntimeWarning: invalid value encountered in divide\n",
      "  self.explained_variance_ratio_ = self.explained_variance_ / total_var\n"
     ]
    },
    {
     "name": "stdout",
     "output_type": "stream",
     "text": [
      "\u001b[1m 4/10\u001b[0m \u001b[32m━━━━━━━━\u001b[0m\u001b[37m━━━━━━━━━━━━\u001b[0m \u001b[1m31s\u001b[0m 5s/step - accuracy: 0.1914 - loss: 1.7485"
     ]
    },
    {
     "name": "stderr",
     "output_type": "stream",
     "text": [
      "c:\\Users\\wowen\\desktop\\Scewl Werk\\ITCS-5154\\Project\\ITSC-5154-Project\\.venv\\Lib\\site-packages\\sklearn\\decomposition\\_pca.py:794: RuntimeWarning: invalid value encountered in divide\n",
      "  self.explained_variance_ratio_ = self.explained_variance_ / total_var\n"
     ]
    },
    {
     "name": "stdout",
     "output_type": "stream",
     "text": [
      "\u001b[1m 5/10\u001b[0m \u001b[32m━━━━━━━━━━\u001b[0m\u001b[37m━━━━━━━━━━\u001b[0m \u001b[1m26s\u001b[0m 5s/step - accuracy: 0.1906 - loss: 1.7489"
     ]
    },
    {
     "name": "stderr",
     "output_type": "stream",
     "text": [
      "c:\\Users\\wowen\\desktop\\Scewl Werk\\ITCS-5154\\Project\\ITSC-5154-Project\\.venv\\Lib\\site-packages\\sklearn\\decomposition\\_pca.py:794: RuntimeWarning: invalid value encountered in divide\n",
      "  self.explained_variance_ratio_ = self.explained_variance_ / total_var\n"
     ]
    },
    {
     "name": "stdout",
     "output_type": "stream",
     "text": [
      "\u001b[1m 6/10\u001b[0m \u001b[32m━━━━━━━━━━━━\u001b[0m\u001b[37m━━━━━━━━\u001b[0m \u001b[1m21s\u001b[0m 5s/step - accuracy: 0.1897 - loss: 1.7475"
     ]
    },
    {
     "name": "stderr",
     "output_type": "stream",
     "text": [
      "c:\\Users\\wowen\\desktop\\Scewl Werk\\ITCS-5154\\Project\\ITSC-5154-Project\\.venv\\Lib\\site-packages\\sklearn\\decomposition\\_pca.py:794: RuntimeWarning: invalid value encountered in divide\n",
      "  self.explained_variance_ratio_ = self.explained_variance_ / total_var\n"
     ]
    },
    {
     "name": "stdout",
     "output_type": "stream",
     "text": [
      "\u001b[1m 7/10\u001b[0m \u001b[32m━━━━━━━━━━━━━━\u001b[0m\u001b[37m━━━━━━\u001b[0m \u001b[1m15s\u001b[0m 5s/step - accuracy: 0.1871 - loss: 1.7475"
     ]
    },
    {
     "name": "stderr",
     "output_type": "stream",
     "text": [
      "c:\\Users\\wowen\\desktop\\Scewl Werk\\ITCS-5154\\Project\\ITSC-5154-Project\\.venv\\Lib\\site-packages\\sklearn\\decomposition\\_pca.py:794: RuntimeWarning: invalid value encountered in divide\n",
      "  self.explained_variance_ratio_ = self.explained_variance_ / total_var\n"
     ]
    },
    {
     "name": "stdout",
     "output_type": "stream",
     "text": [
      "\u001b[1m 8/10\u001b[0m \u001b[32m━━━━━━━━━━━━━━━━\u001b[0m\u001b[37m━━━━\u001b[0m \u001b[1m10s\u001b[0m 5s/step - accuracy: 0.1845 - loss: 1.7481"
     ]
    },
    {
     "name": "stderr",
     "output_type": "stream",
     "text": [
      "c:\\Users\\wowen\\desktop\\Scewl Werk\\ITCS-5154\\Project\\ITSC-5154-Project\\.venv\\Lib\\site-packages\\sklearn\\decomposition\\_pca.py:794: RuntimeWarning: invalid value encountered in divide\n",
      "  self.explained_variance_ratio_ = self.explained_variance_ / total_var\n"
     ]
    },
    {
     "name": "stdout",
     "output_type": "stream",
     "text": [
      "\u001b[1m 9/10\u001b[0m \u001b[32m━━━━━━━━━━━━━━━━━━\u001b[0m\u001b[37m━━\u001b[0m \u001b[1m5s\u001b[0m 5s/step - accuracy: 0.1821 - loss: 1.7486 "
     ]
    },
    {
     "name": "stderr",
     "output_type": "stream",
     "text": [
      "c:\\Users\\wowen\\desktop\\Scewl Werk\\ITCS-5154\\Project\\ITSC-5154-Project\\.venv\\Lib\\site-packages\\sklearn\\decomposition\\_pca.py:794: RuntimeWarning: invalid value encountered in divide\n",
      "  self.explained_variance_ratio_ = self.explained_variance_ / total_var\n"
     ]
    },
    {
     "name": "stdout",
     "output_type": "stream",
     "text": [
      "\u001b[1m10/10\u001b[0m \u001b[32m━━━━━━━━━━━━━━━━━━━━\u001b[0m\u001b[37m\u001b[0m \u001b[1m51s\u001b[0m 5s/step - accuracy: 0.1781 - loss: 1.7486\n",
      "Epoch 9/10\n"
     ]
    },
    {
     "name": "stderr",
     "output_type": "stream",
     "text": [
      "c:\\Users\\wowen\\desktop\\Scewl Werk\\ITCS-5154\\Project\\ITSC-5154-Project\\.venv\\Lib\\site-packages\\sklearn\\decomposition\\_pca.py:794: RuntimeWarning: invalid value encountered in divide\n",
      "  self.explained_variance_ratio_ = self.explained_variance_ / total_var\n"
     ]
    },
    {
     "name": "stdout",
     "output_type": "stream",
     "text": [
      "\u001b[1m 1/10\u001b[0m \u001b[32m━━\u001b[0m\u001b[37m━━━━━━━━━━━━━━━━━━\u001b[0m \u001b[1m46s\u001b[0m 5s/step - accuracy: 0.2188 - loss: 1.7478"
     ]
    },
    {
     "name": "stderr",
     "output_type": "stream",
     "text": [
      "c:\\Users\\wowen\\desktop\\Scewl Werk\\ITCS-5154\\Project\\ITSC-5154-Project\\.venv\\Lib\\site-packages\\sklearn\\decomposition\\_pca.py:794: RuntimeWarning: invalid value encountered in divide\n",
      "  self.explained_variance_ratio_ = self.explained_variance_ / total_var\n"
     ]
    },
    {
     "name": "stdout",
     "output_type": "stream",
     "text": [
      "\u001b[1m 2/10\u001b[0m \u001b[32m━━━━\u001b[0m\u001b[37m━━━━━━━━━━━━━━━━\u001b[0m \u001b[1m42s\u001b[0m 5s/step - accuracy: 0.2070 - loss: 1.7517"
     ]
    },
    {
     "name": "stderr",
     "output_type": "stream",
     "text": [
      "c:\\Users\\wowen\\desktop\\Scewl Werk\\ITCS-5154\\Project\\ITSC-5154-Project\\.venv\\Lib\\site-packages\\sklearn\\decomposition\\_pca.py:794: RuntimeWarning: invalid value encountered in divide\n",
      "  self.explained_variance_ratio_ = self.explained_variance_ / total_var\n"
     ]
    },
    {
     "name": "stdout",
     "output_type": "stream",
     "text": [
      "\u001b[1m 3/10\u001b[0m \u001b[32m━━━━━━\u001b[0m\u001b[37m━━━━━━━━━━━━━━\u001b[0m \u001b[1m37s\u001b[0m 5s/step - accuracy: 0.1970 - loss: 1.7454"
     ]
    },
    {
     "name": "stderr",
     "output_type": "stream",
     "text": [
      "c:\\Users\\wowen\\desktop\\Scewl Werk\\ITCS-5154\\Project\\ITSC-5154-Project\\.venv\\Lib\\site-packages\\sklearn\\decomposition\\_pca.py:794: RuntimeWarning: invalid value encountered in divide\n",
      "  self.explained_variance_ratio_ = self.explained_variance_ / total_var\n"
     ]
    },
    {
     "name": "stdout",
     "output_type": "stream",
     "text": [
      "\u001b[1m 4/10\u001b[0m \u001b[32m━━━━━━━━\u001b[0m\u001b[37m━━━━━━━━━━━━\u001b[0m \u001b[1m31s\u001b[0m 5s/step - accuracy: 0.1917 - loss: 1.7422"
     ]
    },
    {
     "name": "stderr",
     "output_type": "stream",
     "text": [
      "c:\\Users\\wowen\\desktop\\Scewl Werk\\ITCS-5154\\Project\\ITSC-5154-Project\\.venv\\Lib\\site-packages\\sklearn\\decomposition\\_pca.py:794: RuntimeWarning: invalid value encountered in divide\n",
      "  self.explained_variance_ratio_ = self.explained_variance_ / total_var\n"
     ]
    },
    {
     "name": "stdout",
     "output_type": "stream",
     "text": [
      "\u001b[1m 5/10\u001b[0m \u001b[32m━━━━━━━━━━\u001b[0m\u001b[37m━━━━━━━━━━\u001b[0m \u001b[1m26s\u001b[0m 5s/step - accuracy: 0.1878 - loss: 1.7397"
     ]
    },
    {
     "name": "stderr",
     "output_type": "stream",
     "text": [
      "c:\\Users\\wowen\\desktop\\Scewl Werk\\ITCS-5154\\Project\\ITSC-5154-Project\\.venv\\Lib\\site-packages\\sklearn\\decomposition\\_pca.py:794: RuntimeWarning: invalid value encountered in divide\n",
      "  self.explained_variance_ratio_ = self.explained_variance_ / total_var\n"
     ]
    },
    {
     "name": "stdout",
     "output_type": "stream",
     "text": [
      "\u001b[1m 6/10\u001b[0m \u001b[32m━━━━━━━━━━━━\u001b[0m\u001b[37m━━━━━━━━\u001b[0m \u001b[1m21s\u001b[0m 5s/step - accuracy: 0.1847 - loss: 1.7385"
     ]
    },
    {
     "name": "stderr",
     "output_type": "stream",
     "text": [
      "c:\\Users\\wowen\\desktop\\Scewl Werk\\ITCS-5154\\Project\\ITSC-5154-Project\\.venv\\Lib\\site-packages\\sklearn\\decomposition\\_pca.py:794: RuntimeWarning: invalid value encountered in divide\n",
      "  self.explained_variance_ratio_ = self.explained_variance_ / total_var\n"
     ]
    },
    {
     "name": "stdout",
     "output_type": "stream",
     "text": [
      "\u001b[1m 7/10\u001b[0m \u001b[32m━━━━━━━━━━━━━━\u001b[0m\u001b[37m━━━━━━\u001b[0m \u001b[1m15s\u001b[0m 5s/step - accuracy: 0.1835 - loss: 1.7389"
     ]
    },
    {
     "name": "stderr",
     "output_type": "stream",
     "text": [
      "c:\\Users\\wowen\\desktop\\Scewl Werk\\ITCS-5154\\Project\\ITSC-5154-Project\\.venv\\Lib\\site-packages\\sklearn\\decomposition\\_pca.py:794: RuntimeWarning: invalid value encountered in divide\n",
      "  self.explained_variance_ratio_ = self.explained_variance_ / total_var\n"
     ]
    },
    {
     "name": "stdout",
     "output_type": "stream",
     "text": [
      "\u001b[1m 8/10\u001b[0m \u001b[32m━━━━━━━━━━━━━━━━\u001b[0m\u001b[37m━━━━\u001b[0m \u001b[1m10s\u001b[0m 5s/step - accuracy: 0.1818 - loss: 1.7386"
     ]
    },
    {
     "name": "stderr",
     "output_type": "stream",
     "text": [
      "c:\\Users\\wowen\\desktop\\Scewl Werk\\ITCS-5154\\Project\\ITSC-5154-Project\\.venv\\Lib\\site-packages\\sklearn\\decomposition\\_pca.py:794: RuntimeWarning: invalid value encountered in divide\n",
      "  self.explained_variance_ratio_ = self.explained_variance_ / total_var\n"
     ]
    },
    {
     "name": "stdout",
     "output_type": "stream",
     "text": [
      "\u001b[1m 9/10\u001b[0m \u001b[32m━━━━━━━━━━━━━━━━━━\u001b[0m\u001b[37m━━\u001b[0m \u001b[1m5s\u001b[0m 5s/step - accuracy: 0.1797 - loss: 1.7391 "
     ]
    },
    {
     "name": "stderr",
     "output_type": "stream",
     "text": [
      "c:\\Users\\wowen\\desktop\\Scewl Werk\\ITCS-5154\\Project\\ITSC-5154-Project\\.venv\\Lib\\site-packages\\sklearn\\decomposition\\_pca.py:794: RuntimeWarning: invalid value encountered in divide\n",
      "  self.explained_variance_ratio_ = self.explained_variance_ / total_var\n"
     ]
    },
    {
     "name": "stdout",
     "output_type": "stream",
     "text": [
      "\u001b[1m10/10\u001b[0m \u001b[32m━━━━━━━━━━━━━━━━━━━━\u001b[0m\u001b[37m\u001b[0m \u001b[1m51s\u001b[0m 5s/step - accuracy: 0.1761 - loss: 1.7408\n",
      "Epoch 10/10\n"
     ]
    },
    {
     "name": "stderr",
     "output_type": "stream",
     "text": [
      "c:\\Users\\wowen\\desktop\\Scewl Werk\\ITCS-5154\\Project\\ITSC-5154-Project\\.venv\\Lib\\site-packages\\sklearn\\decomposition\\_pca.py:794: RuntimeWarning: invalid value encountered in divide\n",
      "  self.explained_variance_ratio_ = self.explained_variance_ / total_var\n"
     ]
    },
    {
     "name": "stdout",
     "output_type": "stream",
     "text": [
      "\u001b[1m 1/10\u001b[0m \u001b[32m━━\u001b[0m\u001b[37m━━━━━━━━━━━━━━━━━━\u001b[0m \u001b[1m48s\u001b[0m 5s/step - accuracy: 0.1875 - loss: 1.7175"
     ]
    },
    {
     "name": "stderr",
     "output_type": "stream",
     "text": [
      "c:\\Users\\wowen\\desktop\\Scewl Werk\\ITCS-5154\\Project\\ITSC-5154-Project\\.venv\\Lib\\site-packages\\sklearn\\decomposition\\_pca.py:794: RuntimeWarning: invalid value encountered in divide\n",
      "  self.explained_variance_ratio_ = self.explained_variance_ / total_var\n"
     ]
    },
    {
     "name": "stdout",
     "output_type": "stream",
     "text": [
      "\u001b[1m 2/10\u001b[0m \u001b[32m━━━━\u001b[0m\u001b[37m━━━━━━━━━━━━━━━━\u001b[0m \u001b[1m43s\u001b[0m 5s/step - accuracy: 0.1797 - loss: 1.7175"
     ]
    },
    {
     "name": "stderr",
     "output_type": "stream",
     "text": [
      "c:\\Users\\wowen\\desktop\\Scewl Werk\\ITCS-5154\\Project\\ITSC-5154-Project\\.venv\\Lib\\site-packages\\sklearn\\decomposition\\_pca.py:794: RuntimeWarning: invalid value encountered in divide\n",
      "  self.explained_variance_ratio_ = self.explained_variance_ / total_var\n"
     ]
    },
    {
     "name": "stdout",
     "output_type": "stream",
     "text": [
      "\u001b[1m 3/10\u001b[0m \u001b[32m━━━━━━\u001b[0m\u001b[37m━━━━━━━━━━━━━━\u001b[0m \u001b[1m37s\u001b[0m 5s/step - accuracy: 0.1788 - loss: 1.7209"
     ]
    },
    {
     "name": "stderr",
     "output_type": "stream",
     "text": [
      "c:\\Users\\wowen\\desktop\\Scewl Werk\\ITCS-5154\\Project\\ITSC-5154-Project\\.venv\\Lib\\site-packages\\sklearn\\decomposition\\_pca.py:794: RuntimeWarning: invalid value encountered in divide\n",
      "  self.explained_variance_ratio_ = self.explained_variance_ / total_var\n"
     ]
    },
    {
     "name": "stdout",
     "output_type": "stream",
     "text": [
      "\u001b[1m 4/10\u001b[0m \u001b[32m━━━━━━━━\u001b[0m\u001b[37m━━━━━━━━━━━━\u001b[0m \u001b[1m32s\u001b[0m 5s/step - accuracy: 0.1771 - loss: 1.7229"
     ]
    },
    {
     "name": "stderr",
     "output_type": "stream",
     "text": [
      "c:\\Users\\wowen\\desktop\\Scewl Werk\\ITCS-5154\\Project\\ITSC-5154-Project\\.venv\\Lib\\site-packages\\sklearn\\decomposition\\_pca.py:794: RuntimeWarning: invalid value encountered in divide\n",
      "  self.explained_variance_ratio_ = self.explained_variance_ / total_var\n"
     ]
    },
    {
     "name": "stdout",
     "output_type": "stream",
     "text": [
      "\u001b[1m 5/10\u001b[0m \u001b[32m━━━━━━━━━━\u001b[0m\u001b[37m━━━━━━━━━━\u001b[0m \u001b[1m26s\u001b[0m 5s/step - accuracy: 0.1754 - loss: 1.7236"
     ]
    },
    {
     "name": "stderr",
     "output_type": "stream",
     "text": [
      "c:\\Users\\wowen\\desktop\\Scewl Werk\\ITCS-5154\\Project\\ITSC-5154-Project\\.venv\\Lib\\site-packages\\sklearn\\decomposition\\_pca.py:794: RuntimeWarning: invalid value encountered in divide\n",
      "  self.explained_variance_ratio_ = self.explained_variance_ / total_var\n"
     ]
    },
    {
     "name": "stdout",
     "output_type": "stream",
     "text": [
      "\u001b[1m 6/10\u001b[0m \u001b[32m━━━━━━━━━━━━\u001b[0m\u001b[37m━━━━━━━━\u001b[0m \u001b[1m21s\u001b[0m 5s/step - accuracy: 0.1740 - loss: 1.7247"
     ]
    },
    {
     "name": "stderr",
     "output_type": "stream",
     "text": [
      "c:\\Users\\wowen\\desktop\\Scewl Werk\\ITCS-5154\\Project\\ITSC-5154-Project\\.venv\\Lib\\site-packages\\sklearn\\decomposition\\_pca.py:794: RuntimeWarning: invalid value encountered in divide\n",
      "  self.explained_variance_ratio_ = self.explained_variance_ / total_var\n"
     ]
    },
    {
     "name": "stdout",
     "output_type": "stream",
     "text": [
      "\u001b[1m 7/10\u001b[0m \u001b[32m━━━━━━━━━━━━━━\u001b[0m\u001b[37m━━━━━━\u001b[0m \u001b[1m15s\u001b[0m 5s/step - accuracy: 0.1730 - loss: 1.7274"
     ]
    },
    {
     "name": "stderr",
     "output_type": "stream",
     "text": [
      "c:\\Users\\wowen\\desktop\\Scewl Werk\\ITCS-5154\\Project\\ITSC-5154-Project\\.venv\\Lib\\site-packages\\sklearn\\decomposition\\_pca.py:794: RuntimeWarning: invalid value encountered in divide\n",
      "  self.explained_variance_ratio_ = self.explained_variance_ / total_var\n"
     ]
    },
    {
     "name": "stdout",
     "output_type": "stream",
     "text": [
      "\u001b[1m 8/10\u001b[0m \u001b[32m━━━━━━━━━━━━━━━━\u001b[0m\u001b[37m━━━━\u001b[0m \u001b[1m10s\u001b[0m 5s/step - accuracy: 0.1709 - loss: 1.7295"
     ]
    },
    {
     "name": "stderr",
     "output_type": "stream",
     "text": [
      "c:\\Users\\wowen\\desktop\\Scewl Werk\\ITCS-5154\\Project\\ITSC-5154-Project\\.venv\\Lib\\site-packages\\sklearn\\decomposition\\_pca.py:794: RuntimeWarning: invalid value encountered in divide\n",
      "  self.explained_variance_ratio_ = self.explained_variance_ / total_var\n"
     ]
    },
    {
     "name": "stdout",
     "output_type": "stream",
     "text": [
      "\u001b[1m 9/10\u001b[0m \u001b[32m━━━━━━━━━━━━━━━━━━\u001b[0m\u001b[37m━━\u001b[0m \u001b[1m5s\u001b[0m 5s/step - accuracy: 0.1697 - loss: 1.7311 "
     ]
    },
    {
     "name": "stderr",
     "output_type": "stream",
     "text": [
      "c:\\Users\\wowen\\desktop\\Scewl Werk\\ITCS-5154\\Project\\ITSC-5154-Project\\.venv\\Lib\\site-packages\\sklearn\\decomposition\\_pca.py:794: RuntimeWarning: invalid value encountered in divide\n",
      "  self.explained_variance_ratio_ = self.explained_variance_ / total_var\n"
     ]
    },
    {
     "name": "stdout",
     "output_type": "stream",
     "text": [
      "\u001b[1m10/10\u001b[0m \u001b[32m━━━━━━━━━━━━━━━━━━━━\u001b[0m\u001b[37m\u001b[0m \u001b[1m51s\u001b[0m 5s/step - accuracy: 0.1679 - loss: 1.7343\n"
     ]
    },
    {
     "name": "stderr",
     "output_type": "stream",
     "text": [
      "c:\\Users\\wowen\\desktop\\Scewl Werk\\ITCS-5154\\Project\\ITSC-5154-Project\\.venv\\Lib\\site-packages\\sklearn\\decomposition\\_pca.py:794: RuntimeWarning: invalid value encountered in divide\n",
      "  self.explained_variance_ratio_ = self.explained_variance_ / total_var\n"
     ]
    },
    {
     "data": {
      "text/plain": [
       "<keras.src.callbacks.history.History at 0x1499433c690>"
      ]
     },
     "execution_count": 1094,
     "metadata": {},
     "output_type": "execute_result"
    }
   ],
   "source": [
    "model.fit(X_train, y_train, epochs=10, batch_size=64, class_weight= class_weights)\n"
   ]
  },
  {
   "cell_type": "code",
   "execution_count": 1095,
   "metadata": {},
   "outputs": [
    {
     "name": "stdout",
     "output_type": "stream",
     "text": [
      "\u001b[1m5/5\u001b[0m \u001b[32m━━━━━━━━━━━━━━━━━━━━\u001b[0m\u001b[37m\u001b[0m \u001b[1m12s\u001b[0m 2s/step\n",
      "\u001b[1m5/5\u001b[0m \u001b[32m━━━━━━━━━━━━━━━━━━━━\u001b[0m\u001b[37m\u001b[0m \u001b[1m12s\u001b[0m 2s/step - accuracy: 0.1487 - loss: 1.9457\n",
      "[[0.14274722 0.14276682 0.1424624  ... 0.14287375 0.14371729 0.14198288]\n",
      " [0.14274722 0.14276682 0.1424624  ... 0.14287375 0.14371729 0.14198288]\n",
      " [0.14274722 0.14276682 0.1424624  ... 0.14287375 0.14371729 0.14198288]\n",
      " ...\n",
      " [0.14274722 0.14276682 0.1424624  ... 0.14287375 0.14371729 0.14198288]\n",
      " [0.14274722 0.14276682 0.1424624  ... 0.14287375 0.14371729 0.14198288]\n",
      " [0.14274722 0.14276682 0.1424624  ... 0.14287375 0.14371729 0.14198288]]\n",
      "Test Loss: 1.9455740451812744\n",
      "Test Accuracy: 0.16883116960525513\n"
     ]
    }
   ],
   "source": [
    "predictions = model.predict(X_test)\n",
    "predicted_classes = predictions.argmax(axis=1)\n",
    "true_classes = y_test\n",
    "test_loss, test_accuracy = model.evaluate(X_test, y_test)\n",
    "print(predictions)\n",
    "print(f\"Test Loss: {test_loss}\")\n",
    "print(f\"Test Accuracy: {test_accuracy}\")"
   ]
  },
  {
   "cell_type": "code",
   "execution_count": 1096,
   "metadata": {},
   "outputs": [
    {
     "data": {
      "image/png": "[encoded data removed]",
      "text/plain": [
       "<Figure size 800x600 with 1 Axes>"
      ]
     },
     "metadata": {},
     "output_type": "display_data"
    }
   ],
   "source": [
    "plt.figure(figsize=(8, 6))\n",
    "plt.scatter(true_classes, predicted_classes, color='blue', alpha=0.5, label='Predictions vs. Actuals')\n",
    "# Add diagonal line representing perfect predictions\n",
    "plt.plot([0, 6], [0, 6], color='red', linestyle='--', label='Perfect Prediction')\n",
    "plt.title('Scatter Plot of Predicted vs. Actual Classes')\n",
    "plt.xlabel('True Classes')\n",
    "plt.ylabel('Predicted Classes')\n",
    "plt.xticks(np.arange(7), ['Class 0', 'Class 1', 'Class 2', 'Class 3', 'Class 4', 'Class 5', 'Class 6'])\n",
    "plt.yticks(np.arange(7), ['Class 0', 'Class 1', 'Class 2', 'Class 3', 'Class 4', 'Class 5', 'Class 6'])\n",
    "plt.legend()\n",
    "plt.grid(True)\n",
    "plt.show()"
   ]
  },
  {
   "cell_type": "code",
   "execution_count": null,
   "metadata": {},
   "outputs": [
    {
     "name": "stdout",
     "output_type": "stream",
     "text": [
      "Confusion Matrix:\n",
      "[[ 0  0  0  0  0 15  0]\n",
      " [ 0  0  0  0  0 23  0]\n",
      " [ 0  0  0  0  0 19  0]\n",
      " [ 0  0  0  0  0 32  0]\n",
      " [ 0  0  0  0  0 13  0]\n",
      " [ 0  0  0  0  0 26  0]\n",
      " [ 0  0  0  0  0 26  0]]\n"
     ]
    },
    {
     "data": {
      "image/png": "[encoded data removed]",
      "text/plain": [
       "<Figure size 800x600 with 2 Axes>"
      ]
     },
     "metadata": {},
     "output_type": "display_data"
    }
   ],
   "source": [
    "from sklearn.metrics import confusion_matrix, classification_report\n",
    "import seaborn as sns\n",
    "\n",
    "# Confusion Matrix\n",
    "cm = confusion_matrix(true_classes, predicted_classes)\n",
    "\n",
    "# Print confusion matrix\n",
    "print(\"Confusion Matrix:\")\n",
    "print(cm)\n",
    "\n",
    "# Plot the confusion matrix\n",
    "plt.figure(figsize=(8, 6))\n",
    "sns.heatmap(cm, annot=True, fmt=\"d\", cmap=\"Blues\", xticklabels=['Class1', 'Class2', 'Class3', 'Class4', 'Class5', 'Class6', 'Class7'], \n",
    "            yticklabels=['Class1', 'Class2', 'Class3', 'Class4', 'Class5', 'Class6', 'Class7'])\n",
    "plt.xlabel('Predicted Labels')\n",
    "plt.ylabel('True Labels')\n",
    "plt.title('Confusion Matrix')\n",
    "plt.show()"
   ]
  },
  {
   "cell_type": "code",
   "execution_count": 1098,
   "metadata": {},
   "outputs": [
    {
     "name": "stdout",
     "output_type": "stream",
     "text": [
      "Classification Report:\n",
      "              precision    recall  f1-score   support\n",
      "\n",
      "           0       0.00      0.00      0.00        15\n",
      "           1       0.00      0.00      0.00        23\n",
      "           2       0.00      0.00      0.00        19\n",
      "           3       0.00      0.00      0.00        32\n",
      "           4       0.00      0.00      0.00        13\n",
      "           5       0.17      1.00      0.29        26\n",
      "           6       0.00      0.00      0.00        26\n",
      "\n",
      "    accuracy                           0.17       154\n",
      "   macro avg       0.02      0.14      0.04       154\n",
      "weighted avg       0.03      0.17      0.05       154\n",
      "\n"
     ]
    },
    {
     "name": "stderr",
     "output_type": "stream",
     "text": [
      "c:\\Users\\wowen\\desktop\\Scewl Werk\\ITCS-5154\\Project\\ITSC-5154-Project\\.venv\\Lib\\site-packages\\sklearn\\metrics\\_classification.py:1531: UndefinedMetricWarning: Precision is ill-defined and being set to 0.0 in labels with no predicted samples. Use `zero_division` parameter to control this behavior.\n",
      "  _warn_prf(average, modifier, f\"{metric.capitalize()} is\", len(result))\n",
      "c:\\Users\\wowen\\desktop\\Scewl Werk\\ITCS-5154\\Project\\ITSC-5154-Project\\.venv\\Lib\\site-packages\\sklearn\\metrics\\_classification.py:1531: UndefinedMetricWarning: Precision is ill-defined and being set to 0.0 in labels with no predicted samples. Use `zero_division` parameter to control this behavior.\n",
      "  _warn_prf(average, modifier, f\"{metric.capitalize()} is\", len(result))\n",
      "c:\\Users\\wowen\\desktop\\Scewl Werk\\ITCS-5154\\Project\\ITSC-5154-Project\\.venv\\Lib\\site-packages\\sklearn\\metrics\\_classification.py:1531: UndefinedMetricWarning: Precision is ill-defined and being set to 0.0 in labels with no predicted samples. Use `zero_division` parameter to control this behavior.\n",
      "  _warn_prf(average, modifier, f\"{metric.capitalize()} is\", len(result))\n"
     ]
    }
   ],
   "source": [
    "report = classification_report(true_classes, predicted_classes)\n",
    "print(\"Classification Report:\")\n",
    "print(report)"
   ]
  }
 ],
 "metadata": {
  "kernelspec": {
   "display_name": ".venv",
   "language": "python",
   "name": "python3"
  },
  "language_info": {
   "codemirror_mode": {
    "name": "ipython",
    "version": 3
   },
   "file_extension": ".py",
   "mimetype": "text/x-python",
   "name": "python",
   "nbconvert_exporter": "python",
   "pygments_lexer": "ipython3",
   "version": "3.11.3"
  }
 },
 "nbformat": 4,
 "nbformat_minor": 2
}
